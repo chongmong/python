{
  "nbformat": 4,
  "nbformat_minor": 0,
  "metadata": {
    "colab": {
      "provenance": [],
      "toc_visible": true,
      "authorship_tag": "ABX9TyPKbp6nw5mxz6Y7UfUT8D5o",
      "include_colab_link": true
    },
    "kernelspec": {
      "name": "python3",
      "display_name": "Python 3"
    },
    "language_info": {
      "name": "python"
    }
  },
  "cells": [
    {
      "cell_type": "markdown",
      "metadata": {
        "id": "view-in-github",
        "colab_type": "text"
      },
      "source": [
        "<a href=\"https://colab.research.google.com/github/chongmong/python/blob/main/py_bban.ipynb\" target=\"_parent\"><img src=\"https://colab.research.google.com/assets/colab-badge.svg\" alt=\"Open In Colab\"/></a>"
      ]
    },
    {
      "cell_type": "markdown",
      "source": [
        "# **CH1 파이썬 문법**\n",
        "\n"
      ],
      "metadata": {
        "id": "mIuhDbbEh0_o"
      }
    },
    {
      "cell_type": "markdown",
      "source": [
        "## 자료형\n",
        "#### 숫자형\n",
        "* 정수 : 123, -20, 0  \n",
        "* 실수 : 123.45, -4321.5, 6.08e9  \n",
        "* 8진수 : 0o456, 0o123  \n",
        "* 16진수 : 0xFF, 0x00, 0x0A"
      ],
      "metadata": {
        "id": "jUDtzC7wiX5X"
      }
    },
    {
      "cell_type": "code",
      "source": [
        "a = 10\n",
        "b = 20\n",
        "c = a + b\n",
        "d = b -a\n",
        "print(c,d)\n"
      ],
      "metadata": {
        "colab": {
          "base_uri": "https://localhost:8080/"
        },
        "id": "F-NbjpdgiIoX",
        "outputId": "fbbba89c-a169-403b-8e1c-8e24e9db2efa"
      },
      "execution_count": null,
      "outputs": [
        {
          "output_type": "stream",
          "name": "stdout",
          "text": [
            "30 10\n"
          ]
        }
      ]
    },
    {
      "cell_type": "code",
      "source": [
        "a = 10\n",
        "b = 3\n",
        "# 나눗셈\n",
        "c = a/b #나눗셈\n",
        "d = a//b #몫  \n",
        "e = a%b #나머지 \n",
        "# 곱셈\n",
        "f = a*b\n",
        "g = a**b #제곱\n",
        "print(c,d,e,f,g)"
      ],
      "metadata": {
        "colab": {
          "base_uri": "https://localhost:8080/"
        },
        "id": "H5HQ-KSgks7I",
        "outputId": "02e095f1-a946-4354-8484-c58ef6c047d7"
      },
      "execution_count": null,
      "outputs": [
        {
          "output_type": "stream",
          "name": "stdout",
          "text": [
            "3.3333333333333335 3 1 30 1000\n"
          ]
        }
      ]
    },
    {
      "cell_type": "markdown",
      "source": [
        "#### 변수\n",
        "* 문자 또는 밑줄로 시작(beta, _kim)\n",
        "* 대소문자를 구분한다.(sum, Sum, SUM)\n",
        "* 영문자, 숫자, 밑줄(a-z. 0-9, _)\n",
        "* 파이썬 키워드는 사용 불가 \n"
      ],
      "metadata": {
        "id": "NHnWGZmmoUM3"
      }
    },
    {
      "cell_type": "markdown",
      "source": [
        "#### 문자열\n",
        "1. 큰 따옴표 : \"Hello World! \n",
        "it's\"\n",
        "2. 작은 따옴표 : '대한민국'  \n",
        "3. 큰 따옴표 3 : \"\"\"Hello World!\"\"\"\n",
        "4. 작은 따옴표 3 : ''' Lifeis too short, You need python'''\n"
      ],
      "metadata": {
        "id": "c7tVGH36mvvP"
      }
    },
    {
      "cell_type": "code",
      "source": [
        "myName = \"Dongmin Son\" #카멜\n",
        "my_name = \"손동민\" # 스네이크\n",
        "MyName = \"kiki\" # 파스칼\n",
        "_myname = \"korea\"\n",
        "MYNAME = \"God is love\"\n",
        "my2name = \"12345\"\n",
        "# 2myname = '9876'\n",
        "# my-name = \"michle\"\n",
        "# my name = \"kiki\"\n",
        "myStr = '123' #str\n",
        "myNum = 123 # int\n",
        "\n",
        "print(myStr, + myNum)\n",
        "print(type(myStr))\n",
        "print(type(myNum))"
      ],
      "metadata": {
        "colab": {
          "base_uri": "https://localhost:8080/"
        },
        "id": "MAKK6AIptjzw",
        "outputId": "b143c549-1065-4e58-842b-4fc74dabed70"
      },
      "execution_count": null,
      "outputs": [
        {
          "output_type": "stream",
          "name": "stdout",
          "text": [
            "123 123\n",
            "<class 'str'>\n",
            "<class 'int'>\n"
          ]
        }
      ]
    },
    {
      "cell_type": "markdown",
      "source": [
        "#### 여러개 변수 할당\n"
      ],
      "metadata": {
        "id": "jhpEbORrv7QP"
      }
    },
    {
      "cell_type": "code",
      "source": [
        "x, y, z = \"포도\", \"딸기\", \"수박\"\n",
        "print(x)\n",
        "print(y)\n",
        "print(z) "
      ],
      "metadata": {
        "colab": {
          "base_uri": "https://localhost:8080/"
        },
        "id": "T2tUp8DFwAOf",
        "outputId": "d97c01fc-ee82-4855-822f-da9e47544626"
      },
      "execution_count": null,
      "outputs": [
        {
          "output_type": "stream",
          "name": "stdout",
          "text": [
            "포도\n",
            "딸기\n",
            "수박\n"
          ]
        }
      ]
    },
    {
      "cell_type": "code",
      "source": [
        "a = b = c = \"오렌지\"\n",
        "print(a)\n",
        "print(b)\n",
        "print(c) "
      ],
      "metadata": {
        "colab": {
          "base_uri": "https://localhost:8080/"
        },
        "id": "_17YEkKlwnI-",
        "outputId": "df0d1f86-e46c-48f7-e632-4d30800522fa"
      },
      "execution_count": null,
      "outputs": [
        {
          "output_type": "stream",
          "name": "stdout",
          "text": [
            "오렌지\n",
            "오렌지\n",
            "오렌지\n"
          ]
        }
      ]
    },
    {
      "cell_type": "code",
      "source": [
        "fruits = [\"포도\", \"딸기\", \"수박\"]\n",
        "x,y,z = fruits\n",
        "print(x)\n",
        "print(y)\n",
        "print(z) "
      ],
      "metadata": {
        "colab": {
          "base_uri": "https://localhost:8080/"
        },
        "id": "yGHIf5Rww8De",
        "outputId": "6ad0fcd5-2f13-4baa-c250-d70e8d4bfb41"
      },
      "execution_count": null,
      "outputs": [
        {
          "output_type": "stream",
          "name": "stdout",
          "text": [
            "포도\n",
            "딸기\n",
            "수박\n"
          ]
        }
      ]
    },
    {
      "cell_type": "code",
      "source": [
        "x = \"Life\"\n",
        "y = \"is\"\n",
        "z = \"Beautiful\"\n",
        "print(x,y,z)\n",
        "print(x+y+z)"
      ],
      "metadata": {
        "colab": {
          "base_uri": "https://localhost:8080/"
        },
        "id": "1jw3sc-XxovP",
        "outputId": "9bb243b6-a89a-49f8-fb7d-45ddcb24090e"
      },
      "execution_count": null,
      "outputs": [
        {
          "output_type": "stream",
          "name": "stdout",
          "text": [
            "Life is Beautiful\n",
            "LifeisBeautiful\n"
          ]
        }
      ]
    },
    {
      "cell_type": "code",
      "source": [
        "a = 1\n",
        "b = 2\n",
        "c = 3\n",
        "print(a,b,c)\n",
        "print(a+b+c)"
      ],
      "metadata": {
        "colab": {
          "base_uri": "https://localhost:8080/"
        },
        "id": "DW4Z4AA9yS-X",
        "outputId": "af61e9df-3117-4ce7-96b2-afe9a11e07e6"
      },
      "execution_count": null,
      "outputs": [
        {
          "output_type": "stream",
          "name": "stdout",
          "text": [
            "1 2 3\n",
            "6\n"
          ]
        }
      ]
    },
    {
      "cell_type": "markdown",
      "source": [
        "#### 데이터 유형\n",
        "+ 텍스트\n",
        "+ 숫자\n",
        "+ 불(bool)\n"
      ],
      "metadata": {
        "id": "xOwYjrcZyu_e"
      }
    },
    {
      "cell_type": "code",
      "source": [
        "a = 15\n",
        "b = 4\n",
        "sum = a+b\n",
        "dis = a-b\n",
        "xon = a*b\n",
        "xis = a**b\n",
        "nan = a/b\n",
        "nin = a//b\n",
        "nun = a%b\n",
        "\n",
        "print('더하기',a, '+', b, '=', sum)\n",
        "print('빼기',a, '-', b, '=', dis)\n",
        "print('곱하기',a, 'x', b, '=', xon)\n",
        "print('제곱',a, 'xx', b, '=', xis)\n",
        "print('나누기',a, '/', b, '=', nan)\n",
        "print('몫',a, '//', b, '=', nin)\n",
        "print('나머지',a, '%', b, '=', nun)\n"
      ],
      "metadata": {
        "colab": {
          "base_uri": "https://localhost:8080/"
        },
        "id": "W5YAkSY0zOoe",
        "outputId": "1b0ed0a7-8236-4071-c492-4ea7afd3de64"
      },
      "execution_count": null,
      "outputs": [
        {
          "output_type": "stream",
          "name": "stdout",
          "text": [
            "더하기 15 + 4 = 19\n",
            "빼기 15 - 4 = 11\n",
            "곱하기 15 x 4 = 60\n",
            "제곱 15 xx 4 = 50625\n",
            "나누기 15 / 4 = 3.75\n",
            "몫 15 // 4 = 3\n",
            "나머지 15 % 4 = 3\n"
          ]
        }
      ]
    },
    {
      "cell_type": "markdown",
      "source": [
        "#### input() 함수 이용한 계산기"
      ],
      "metadata": {
        "id": "VUkWiWoTAdtG"
      }
    },
    {
      "cell_type": "code",
      "source": [
        "a = int(input(\"첫번째 숫자를 입력해주세요:\"))\n",
        "b = int(input(\"두번쨰 숫자를 입력해주세요:\"))\n",
        "result = a + b\n",
        "print(a, '+',b, '=', result)\n",
        "result = a - b\n",
        "print(a, '-',b, '=', result)\n",
        "result = a * b\n",
        "print(a, '*',b, '=', result)\n",
        "result = a ** b\n",
        "print(a, '**',b, '=', result)\n",
        "result = a / b\n",
        "print(a, '/',b, '=', result)\n",
        "result = a // b\n",
        "print(a, '//',b, '=', result)\n",
        "result = a % b\n",
        "print(a, '%',b, '=', result)\n",
        "# 제곱, 몫, 나머지\n",
        "\n"
      ],
      "metadata": {
        "colab": {
          "base_uri": "https://localhost:8080/"
        },
        "id": "b2F3X7mrAkEm",
        "outputId": "5de9810f-6d0e-4fd0-86af-df9b97ae89a8"
      },
      "execution_count": null,
      "outputs": [
        {
          "output_type": "stream",
          "name": "stdout",
          "text": [
            "첫번째 숫자를 입력해주세요:8\n",
            "두번쨰 숫자를 입력해주세요:3\n",
            "8 + 3 = 11\n",
            "8 - 3 = 5\n",
            "8 * 3 = 24\n",
            "8 ** 3 = 512\n",
            "8 / 3 = 2.6666666666666665\n",
            "8 // 3 = 2\n",
            "8 % 3 = 2\n"
          ]
        }
      ]
    },
    {
      "cell_type": "code",
      "source": [
        "num1 = input(\"숫자입력1:  \")\n",
        "num2 = input(\"숫자입력2:  \")\n",
        "result = num1 + num2\n",
        "print(type(num1))\n",
        "print(num1, '+', num2, '=', result)"
      ],
      "metadata": {
        "colab": {
          "base_uri": "https://localhost:8080/"
        },
        "id": "moRiZg7ZDVAw",
        "outputId": "29449bd0-caac-41e1-9dff-b8a4d1887751"
      },
      "execution_count": null,
      "outputs": [
        {
          "output_type": "stream",
          "name": "stdout",
          "text": [
            "숫자입력1:  dkssud\n",
            "숫자입력2:  gktpdy\n",
            "<class 'str'>\n",
            "dkssud + gktpdy = dkssudgktpdy\n"
          ]
        }
      ]
    },
    {
      "cell_type": "code",
      "source": [
        "nw = input(\"전화번호를 입력하세요:  \")\n",
        "ne = input(\"이름을 입력하세요:  \")\n",
        "nf = int(input(\"무게를 입력하세요: \"))\n",
        "a = nw\n",
        "b = ne\n",
        "c = nf*10\n",
        "print('입력한 내용은 이름:',nw )\n",
        "print('전화번호:',ne )\n",
        "print('산출된 값:',c)"
      ],
      "metadata": {
        "colab": {
          "base_uri": "https://localhost:8080/"
        },
        "id": "cUm4vMyAEXqH",
        "outputId": "22ebb545-43b1-4e7e-b8a7-ddc342cbb26a"
      },
      "execution_count": 1,
      "outputs": [
        {
          "output_type": "stream",
          "name": "stdout",
          "text": [
            "전화번호를 입력하세요:  01022468698\n",
            "이름을 입력하세요:  손동민\n",
            "무게를 입력하세요: 80\n",
            "입력한 내용은 이름: 01022468698\n",
            "전화번호: 손동민\n",
            "산출된 값: 800\n"
          ]
        }
      ]
    }
  ]
}