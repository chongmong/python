{
  "nbformat": 4,
  "nbformat_minor": 0,
  "metadata": {
    "colab": {
      "provenance": [],
      "toc_visible": true,
      "authorship_tag": "ABX9TyN7t56N4pSR1fsG2phrGurH",
      "include_colab_link": true
    },
    "kernelspec": {
      "name": "python3",
      "display_name": "Python 3"
    },
    "language_info": {
      "name": "python"
    },
    "gpuClass": "standard"
  },
  "cells": [
    {
      "cell_type": "markdown",
      "metadata": {
        "id": "view-in-github",
        "colab_type": "text"
      },
      "source": [
        "<a href=\"https://colab.research.google.com/github/chongmong/python/blob/main/py_bban.ipynb\" target=\"_parent\"><img src=\"https://colab.research.google.com/assets/colab-badge.svg\" alt=\"Open In Colab\"/></a>"
      ]
    },
    {
      "cell_type": "markdown",
      "source": [
        "# **CH1 파이썬 문법**\n",
        "\n"
      ],
      "metadata": {
        "id": "mIuhDbbEh0_o"
      }
    },
    {
      "cell_type": "markdown",
      "source": [
        "## 자료형\n",
        "#### 숫자형\n",
        "* 정수 : 123, -20, 0  \n",
        "* 실수 : 123.45, -4321.5, 6.08e9  \n",
        "* 8진수 : 0o456, 0o123  \n",
        "* 16진수 : 0xFF, 0x00, 0x0A"
      ],
      "metadata": {
        "id": "jUDtzC7wiX5X"
      }
    },
    {
      "cell_type": "code",
      "source": [
        "a = 10\n",
        "b = 20\n",
        "c = a + b\n",
        "d = b - a\n",
        "print(c,d)\n"
      ],
      "metadata": {
        "colab": {
          "base_uri": "https://localhost:8080/"
        },
        "id": "F-NbjpdgiIoX",
        "outputId": "fbbba89c-a169-403b-8e1c-8e24e9db2efa"
      },
      "execution_count": null,
      "outputs": [
        {
          "output_type": "stream",
          "name": "stdout",
          "text": [
            "30 10\n"
          ]
        }
      ]
    },
    {
      "cell_type": "code",
      "source": [
        "a = 10\n",
        "b = 3\n",
        "# 나눗셈\n",
        "c = a/b #나눗셈\n",
        "d = a//b #몫  \n",
        "e = a%b #나머지 \n",
        "# 곱셈\n",
        "f = a*b\n",
        "g = a**b #제곱\n",
        "print(c,d,e,f,g)"
      ],
      "metadata": {
        "colab": {
          "base_uri": "https://localhost:8080/"
        },
        "id": "H5HQ-KSgks7I",
        "outputId": "02e095f1-a946-4354-8484-c58ef6c047d7"
      },
      "execution_count": null,
      "outputs": [
        {
          "output_type": "stream",
          "name": "stdout",
          "text": [
            "3.3333333333333335 3 1 30 1000\n"
          ]
        }
      ]
    },
    {
      "cell_type": "markdown",
      "source": [
        "#### 변수\n",
        "* 문자 또는 밑줄로 시작(beta, _kim)\n",
        "* 대소문자를 구분한다.(sum, Sum, SUM)\n",
        "* 영문자, 숫자, 밑줄(a-z. 0-9, _)\n",
        "* 파이썬 키워드는 사용 불가 \n"
      ],
      "metadata": {
        "id": "NHnWGZmmoUM3"
      }
    },
    {
      "cell_type": "markdown",
      "source": [
        "#### 문자열\n",
        "1. 큰 따옴표 : \"Hello World! \n",
        "it's\"\n",
        "2. 작은 따옴표 : '대한민국'  \n",
        "3. 큰 따옴표 3 : \"\"\"Hello World!\"\"\"\n",
        "4. 작은 따옴표 3 : ''' Lifeis too short, You need python'''\n"
      ],
      "metadata": {
        "id": "c7tVGH36mvvP"
      }
    },
    {
      "cell_type": "code",
      "source": [
        "myName = \"Dongmin Son\" #카멜\n",
        "my_name = \"손동민\" # 스네이크\n",
        "MyName = \"kiki\" # 파스칼\n",
        "_myname = \"korea\"\n",
        "MYNAME = \"God is love\"\n",
        "my2name = \"12345\"\n",
        "# 2myname = '9876'\n",
        "# my-name = \"michle\"\n",
        "# my name = \"kiki\"\n",
        "myStr = '123' #str\n",
        "myNum = 123 # int\n",
        "\n",
        "print(myStr, + myNum)\n",
        "print(type(myStr))\n",
        "print(type(myNum))"
      ],
      "metadata": {
        "colab": {
          "base_uri": "https://localhost:8080/"
        },
        "id": "MAKK6AIptjzw",
        "outputId": "b143c549-1065-4e58-842b-4fc74dabed70"
      },
      "execution_count": null,
      "outputs": [
        {
          "output_type": "stream",
          "name": "stdout",
          "text": [
            "123 123\n",
            "<class 'str'>\n",
            "<class 'int'>\n"
          ]
        }
      ]
    },
    {
      "cell_type": "markdown",
      "source": [
        "#### 여러개 변수 할당\n"
      ],
      "metadata": {
        "id": "jhpEbORrv7QP"
      }
    },
    {
      "cell_type": "code",
      "source": [
        "x, y, z = \"포도\", \"딸기\", \"수박\"\n",
        "print(x)\n",
        "print(y)\n",
        "print(z) "
      ],
      "metadata": {
        "colab": {
          "base_uri": "https://localhost:8080/"
        },
        "id": "T2tUp8DFwAOf",
        "outputId": "d97c01fc-ee82-4855-822f-da9e47544626"
      },
      "execution_count": null,
      "outputs": [
        {
          "output_type": "stream",
          "name": "stdout",
          "text": [
            "포도\n",
            "딸기\n",
            "수박\n"
          ]
        }
      ]
    },
    {
      "cell_type": "code",
      "source": [
        "a = b = c = \"오렌지\"\n",
        "print(a)\n",
        "print(b)\n",
        "print(c) "
      ],
      "metadata": {
        "colab": {
          "base_uri": "https://localhost:8080/"
        },
        "id": "_17YEkKlwnI-",
        "outputId": "df0d1f86-e46c-48f7-e632-4d30800522fa"
      },
      "execution_count": null,
      "outputs": [
        {
          "output_type": "stream",
          "name": "stdout",
          "text": [
            "오렌지\n",
            "오렌지\n",
            "오렌지\n"
          ]
        }
      ]
    },
    {
      "cell_type": "code",
      "source": [
        "fruits = [\"포도\", \"딸기\", \"수박\"]\n",
        "x,y,z = fruits\n",
        "print(x)\n",
        "print(y)\n",
        "print(z) "
      ],
      "metadata": {
        "colab": {
          "base_uri": "https://localhost:8080/"
        },
        "id": "yGHIf5Rww8De",
        "outputId": "6ad0fcd5-2f13-4baa-c250-d70e8d4bfb41"
      },
      "execution_count": null,
      "outputs": [
        {
          "output_type": "stream",
          "name": "stdout",
          "text": [
            "포도\n",
            "딸기\n",
            "수박\n"
          ]
        }
      ]
    },
    {
      "cell_type": "code",
      "source": [
        "x = \"Life\"\n",
        "y = \"is\"\n",
        "z = \"Beautiful\"\n",
        "print(x,y,z)\n",
        "print(x+y+z)"
      ],
      "metadata": {
        "colab": {
          "base_uri": "https://localhost:8080/"
        },
        "id": "1jw3sc-XxovP",
        "outputId": "9bb243b6-a89a-49f8-fb7d-45ddcb24090e"
      },
      "execution_count": null,
      "outputs": [
        {
          "output_type": "stream",
          "name": "stdout",
          "text": [
            "Life is Beautiful\n",
            "LifeisBeautiful\n"
          ]
        }
      ]
    },
    {
      "cell_type": "code",
      "source": [
        "a = 1\n",
        "b = 2\n",
        "c = 3\n",
        "print(a,b,c)\n",
        "print(a+b+c)"
      ],
      "metadata": {
        "colab": {
          "base_uri": "https://localhost:8080/"
        },
        "id": "DW4Z4AA9yS-X",
        "outputId": "af61e9df-3117-4ce7-96b2-afe9a11e07e6"
      },
      "execution_count": null,
      "outputs": [
        {
          "output_type": "stream",
          "name": "stdout",
          "text": [
            "1 2 3\n",
            "6\n"
          ]
        }
      ]
    },
    {
      "cell_type": "markdown",
      "source": [
        "#### 데이터 유형\n",
        "+ 텍스트\n",
        "+ 숫자\n",
        "+ 불(bool)\n"
      ],
      "metadata": {
        "id": "xOwYjrcZyu_e"
      }
    },
    {
      "cell_type": "code",
      "source": [
        "a = 15\n",
        "b = 4\n",
        "sum = a+b\n",
        "dis = a-b\n",
        "xon = a*b\n",
        "xis = a**b\n",
        "nan = a/b\n",
        "nin = a//b\n",
        "nun = a%b\n",
        "\n",
        "print('더하기',a, '+', b, '=', sum)\n",
        "print('빼기',a, '-', b, '=', dis)\n",
        "print('곱하기',a, 'x', b, '=', xon)\n",
        "print('제곱',a, 'xx', b, '=', xis)\n",
        "print('나누기',a, '/', b, '=', nan)\n",
        "print('몫',a, '//', b, '=', nin)\n",
        "print('나머지',a, '%', b, '=', nun)\n"
      ],
      "metadata": {
        "colab": {
          "base_uri": "https://localhost:8080/"
        },
        "id": "W5YAkSY0zOoe",
        "outputId": "ac181a67-d70b-4a2d-edb6-c7e2be306b99"
      },
      "execution_count": null,
      "outputs": [
        {
          "output_type": "stream",
          "name": "stdout",
          "text": [
            "더하기 15 + 4 = 19\n",
            "빼기 15 - 4 = 11\n",
            "곱하기 15 x 4 = 60\n",
            "제곱 15 xx 4 = 50625\n",
            "나누기 15 / 4 = 3.75\n",
            "몫 15 // 4 = 3\n",
            "나머지 15 % 4 = 3\n"
          ]
        }
      ]
    },
    {
      "cell_type": "markdown",
      "source": [
        "#### input() 함수 이용한 계산기"
      ],
      "metadata": {
        "id": "VUkWiWoTAdtG"
      }
    },
    {
      "cell_type": "code",
      "source": [
        "a = int(input(\"첫번째 숫자를 입력해주세요:\"))\n",
        "b = int(input(\"두번쨰 숫자를 입력해주세요:\"))\n",
        "result = a + b\n",
        "print(a, '+',b, '=', result)\n",
        "result = a - b\n",
        "print(a, '-',b, '=', result)\n",
        "result = a * b\n",
        "print(a, '*',b, '=', result)\n",
        "result = a ** b\n",
        "print(a, '**',b, '=', result)\n",
        "result = a / b\n",
        "print(a, '/',b, '=', result)\n",
        "result = a // b\n",
        "print(a, '//',b, '=', result)\n",
        "result = a % b\n",
        "print(a, '%',b, '=', result)\n",
        "# 제곱, 몫, 나머지\n",
        "\n"
      ],
      "metadata": {
        "colab": {
          "base_uri": "https://localhost:8080/"
        },
        "id": "b2F3X7mrAkEm",
        "outputId": "5de9810f-6d0e-4fd0-86af-df9b97ae89a8"
      },
      "execution_count": null,
      "outputs": [
        {
          "output_type": "stream",
          "name": "stdout",
          "text": [
            "첫번째 숫자를 입력해주세요:8\n",
            "두번쨰 숫자를 입력해주세요:3\n",
            "8 + 3 = 11\n",
            "8 - 3 = 5\n",
            "8 * 3 = 24\n",
            "8 ** 3 = 512\n",
            "8 / 3 = 2.6666666666666665\n",
            "8 // 3 = 2\n",
            "8 % 3 = 2\n"
          ]
        }
      ]
    },
    {
      "cell_type": "code",
      "source": [
        "num1 = int(input(\"숫자입력1:  \"))\n",
        "num2 = int(input(\"숫자입력2:  \"))\n",
        "result = num1 + num2\n",
        "print(type(num1))\n",
        "print(num1, '+', num2, '=', result)"
      ],
      "metadata": {
        "colab": {
          "base_uri": "https://localhost:8080/"
        },
        "id": "moRiZg7ZDVAw",
        "outputId": "b3578731-a9c1-4268-8be0-3e9b513aaac6"
      },
      "execution_count": null,
      "outputs": [
        {
          "output_type": "stream",
          "name": "stdout",
          "text": [
            "숫자입력1:  5\n",
            "숫자입력2:  8\n",
            "<class 'int'>\n",
            "5 + 8 = 13\n"
          ]
        }
      ]
    },
    {
      "cell_type": "markdown",
      "source": [
        "##퀴즈 1 전화번호와 이름, 무게를 입력받아 출력하시오"
      ],
      "metadata": {
        "id": "vSq_45nNzdkQ"
      }
    },
    {
      "cell_type": "code",
      "source": [
        "nw = input(\"전화번호를 입력하세요:  \")\n",
        "ne = input(\"이름을 입력하세요:  \")\n",
        "nf = int(input(\"무게를 입력하세요: \"))\n",
        "a = nw\n",
        "b = ne\n",
        "c = nf*10\n",
        "print('입력한 내용은 \\n이름:',nw )\n",
        "print('전화번호:',ne )\n",
        "print('산출된 값:',c)"
      ],
      "metadata": {
        "colab": {
          "base_uri": "https://localhost:8080/"
        },
        "id": "cUm4vMyAEXqH",
        "outputId": "ea3c0432-8eb2-420a-cd78-a3ce35e86ca8"
      },
      "execution_count": null,
      "outputs": [
        {
          "output_type": "stream",
          "name": "stdout",
          "text": [
            "전화번호를 입력하세요:  0105\n",
            "이름을 입력하세요:  son\n",
            "무게를 입력하세요: 80\n",
            "입력한 내용은 \n",
            "이름: 0105\n",
            "전화번호: son\n",
            "산출된 값: 800\n"
          ]
        }
      ]
    },
    {
      "cell_type": "markdown",
      "source": [
        "#2. print() 서식 출력"
      ],
      "metadata": {
        "id": "2hImPNbYii_1"
      }
    },
    {
      "cell_type": "code",
      "source": [
        "print(\"%d\" % 123)\n",
        "print(\"%5d\" % 123)\n",
        "print(\"%05d\" % 123)\n",
        "\n",
        "print(\"%f\" % 123.45)\n",
        "print(\"%7.1f\" % 123.45)\n",
        "print(\"%7.3f\" % 123.45)\n",
        "\n",
        "print(\"%s\" % \"대한민국\")\n",
        "print(\"%6s\" % \"대한민국\")"
      ],
      "metadata": {
        "colab": {
          "base_uri": "https://localhost:8080/"
        },
        "id": "gHAEnIFQin2U",
        "outputId": "cfc2f884-6efb-415f-daf7-55bf54d8b486"
      },
      "execution_count": null,
      "outputs": [
        {
          "output_type": "stream",
          "name": "stdout",
          "text": [
            "123\n",
            "  123\n",
            "00123\n",
            "123.450000\n",
            "  123.5\n",
            "123.450\n",
            "대한민국\n",
            "  대한민국\n"
          ]
        }
      ]
    },
    {
      "cell_type": "markdown",
      "source": [
        "#### format 함수 : 순서 지정 가능"
      ],
      "metadata": {
        "id": "MepBG1MTkn-f"
      }
    },
    {
      "cell_type": "code",
      "source": [
        "print(\"{0:d} {1:5d} {2:05d}\".format(123,456,789))"
      ],
      "metadata": {
        "colab": {
          "base_uri": "https://localhost:8080/"
        },
        "id": "mVqSSrT1j_LU",
        "outputId": "66be7a13-e257-40c6-acef-92153de7dc69"
      },
      "execution_count": null,
      "outputs": [
        {
          "output_type": "stream",
          "name": "stdout",
          "text": [
            "123   456 00789\n"
          ]
        }
      ]
    },
    {
      "cell_type": "code",
      "source": [
        "print(\"{2:d} {1:5d} {0:05d}\".format(123,456,789))"
      ],
      "metadata": {
        "colab": {
          "base_uri": "https://localhost:8080/"
        },
        "id": "Qn6nJ9TmkXjo",
        "outputId": "47dc2650-b8f5-4245-ffdc-e786031b7262"
      },
      "execution_count": null,
      "outputs": [
        {
          "output_type": "stream",
          "name": "stdout",
          "text": [
            "789   456 00123\n"
          ]
        }
      ]
    },
    {
      "cell_type": "markdown",
      "source": [
        "#### 서식 출력"
      ],
      "metadata": {
        "id": "CRzkUpT3k727"
      }
    },
    {
      "cell_type": "code",
      "source": [
        "print(\"\\n줄바꿈\\n연습입니다.\")"
      ],
      "metadata": {
        "colab": {
          "base_uri": "https://localhost:8080/"
        },
        "id": "_RKW86AvlH4a",
        "outputId": "3eccd729-0192-4b75-d050-aec1ff2b04bd"
      },
      "execution_count": null,
      "outputs": [
        {
          "output_type": "stream",
          "name": "stdout",
          "text": [
            "\n",
            "줄바꿈\n",
            "연습입니다.\n"
          ]
        }
      ]
    },
    {
      "cell_type": "code",
      "source": [
        "print(\"\\t탭키\\t연습\")"
      ],
      "metadata": {
        "colab": {
          "base_uri": "https://localhost:8080/"
        },
        "id": "EPrNhj4OlRP5",
        "outputId": "a1a51d35-bd15-44a5-a254-e8ef79e42332"
      },
      "execution_count": null,
      "outputs": [
        {
          "output_type": "stream",
          "name": "stdout",
          "text": [
            "\t탭키\t연습\n"
          ]
        }
      ]
    },
    {
      "cell_type": "code",
      "source": [
        "print(\"글자가 \\\"강조\\\"되는 효과1\")\n",
        "print(\"글자가 \\'강조\\'되는 효과1\")\n",
        "print(\"역슬레시 3개출력 \\\\\\\\\\\\\")\n",
        "print(r\"\\n \\t \\\" \\\\ \\' @를 그대로 출력\") #그대로 출력됨"
      ],
      "metadata": {
        "colab": {
          "base_uri": "https://localhost:8080/"
        },
        "id": "yeFPCmPAlfP0",
        "outputId": "91e6cf07-a899-4835-c5bd-69cf208ee98b"
      },
      "execution_count": null,
      "outputs": [
        {
          "output_type": "stream",
          "name": "stdout",
          "text": [
            "글자가 \"강조\"되는 효과1\n",
            "글자가 '강조'되는 효과1\n",
            "역슬레시 3개출력 \\\\\\\n",
            "\\n \\t \\\" \\\\ \\' @를 그대로 출력\n"
          ]
        }
      ]
    },
    {
      "cell_type": "markdown",
      "source": [
        "#### 관계 연산자"
      ],
      "metadata": {
        "id": "OaqyqZ-Bojm7"
      }
    },
    {
      "cell_type": "code",
      "source": [
        "a,b = 10,20\n",
        "print(a==b, a!=b, a>b, a<b, a>=b, a<=b)"
      ],
      "metadata": {
        "colab": {
          "base_uri": "https://localhost:8080/"
        },
        "id": "uMyaPcHfomsb",
        "outputId": "30266bf9-fccc-45b7-bbf8-28299f3fc2f6"
      },
      "execution_count": null,
      "outputs": [
        {
          "output_type": "stream",
          "name": "stdout",
          "text": [
            "False True False True False True\n"
          ]
        }
      ]
    },
    {
      "cell_type": "code",
      "source": [
        "a = 99\n",
        "print((a>100) and (a<200))\n",
        "print((a>100) or (a<200))\n",
        "print(not(a==100))"
      ],
      "metadata": {
        "colab": {
          "base_uri": "https://localhost:8080/"
        },
        "id": "qErmISoApMPa",
        "outputId": "54234c8e-444d-49ef-c227-44c42e56f617"
      },
      "execution_count": null,
      "outputs": [
        {
          "output_type": "stream",
          "name": "stdout",
          "text": [
            "False\n",
            "True\n",
            "True\n"
          ]
        }
      ]
    },
    {
      "cell_type": "code",
      "source": [
        "if(1):\n",
        "  print(\"참이면 보입니다.\")\n",
        "if(0):\n",
        "  print(\"거짓이면 안 보입니다\")"
      ],
      "metadata": {
        "colab": {
          "base_uri": "https://localhost:8080/"
        },
        "id": "3nVCn2Uxpri7",
        "outputId": "12c0e6ba-89f1-4b08-e159-1526d041e5a1"
      },
      "execution_count": null,
      "outputs": [
        {
          "output_type": "stream",
          "name": "stdout",
          "text": [
            "참이면 보입니다.\n"
          ]
        }
      ]
    },
    {
      "cell_type": "markdown",
      "source": [
        "### 퀴즈2 숫자 입력을 받아 동전으로 바꿔주는 프로그램(500원, 100원, 50원, 10원)"
      ],
      "metadata": {
        "id": "f8jquArkvsJC"
      }
    },
    {
      "cell_type": "code",
      "source": [
        "# 변수\n",
        "bill, c500, c100, c50, c10 = 0,0,0,0,0\n",
        "\n",
        "bill = int(input(\"숫자를 입력하세요 : \"))\n",
        "c500 = bill // 500\n",
        "bill %= 500 # bill = bill % 500\n",
        "c100 = bill // 100\n",
        "bill %= 100\n",
        "c50 = bill // 50\n",
        "bill %= 50\n",
        "c10 = bill // 10\n",
        "bill %= 10\n",
        "print(\"500원 %d개\" % c500)\n",
        "print(\"100원 %d개\" % c100)\n",
        "print(\"50원 %d개\" % c50)\n",
        "print(\"10원 %d개\" % c10)\n",
        "print(\"잔돈 %d개\" % bill)"
      ],
      "metadata": {
        "colab": {
          "base_uri": "https://localhost:8080/"
        },
        "id": "ct5JwTMfwEf4",
        "outputId": "26e139fd-b893-4209-959f-68f220970afe"
      },
      "execution_count": null,
      "outputs": [
        {
          "output_type": "stream",
          "name": "stdout",
          "text": [
            "숫자를 입력하세요 : 5753\n",
            "500원 11개\n",
            "100원 2개\n",
            "50원 1개\n",
            "10원 0개\n",
            "잔돈 3개\n"
          ]
        }
      ]
    },
    {
      "cell_type": "markdown",
      "source": [
        "## 조건문"
      ],
      "metadata": {
        "id": "4VdEPu0p0_wf"
      }
    },
    {
      "cell_type": "code",
      "source": [
        "a = 200\n",
        "if(a<100):\n",
        "  print(\"100보다 작다\")\n",
        "else :\n",
        "  print(\"100보다 크다\")\n",
        "print(\"프로그램 끝\")  "
      ],
      "metadata": {
        "colab": {
          "base_uri": "https://localhost:8080/"
        },
        "id": "VK4I9w2Z1G9C",
        "outputId": "e4fb40e2-f73a-428d-991f-8f0304532cfa"
      },
      "execution_count": null,
      "outputs": [
        {
          "output_type": "stream",
          "name": "stdout",
          "text": [
            "100보다 크다\n",
            "프로그램 끝\n"
          ]
        }
      ]
    },
    {
      "cell_type": "code",
      "source": [
        "# 홀짝 구분\n",
        "a = int(input(\"정수를 입력하세요 : \"))\n",
        "if(a % 2 == 0):\n",
        "  print(\"짝수\")\n",
        "else :\n",
        "  print(\"홀수\")"
      ],
      "metadata": {
        "colab": {
          "base_uri": "https://localhost:8080/"
        },
        "id": "AFbmImFU2Hxv",
        "outputId": "d3090c0a-ed8f-46f0-c182-f2a415421f6f"
      },
      "execution_count": null,
      "outputs": [
        {
          "output_type": "stream",
          "name": "stdout",
          "text": [
            "정수를 입력하세요 : 8\n",
            "짝수\n"
          ]
        }
      ]
    },
    {
      "cell_type": "code",
      "source": [
        "a = 110\n",
        "if(a > 50):\n",
        "  if(a < 100):\n",
        "    print(\"50 < a < 100\")\n",
        "  else:\n",
        "    print(\"a > 100\")\n",
        "else:\n",
        "  print(\"a < 50\")"
      ],
      "metadata": {
        "colab": {
          "base_uri": "https://localhost:8080/"
        },
        "id": "da7EMKo628Mn",
        "outputId": "23ebd911-6170-4f2d-cf3e-d48dbfd7a2e7"
      },
      "execution_count": null,
      "outputs": [
        {
          "output_type": "stream",
          "name": "stdout",
          "text": [
            "a > 100\n"
          ]
        }
      ]
    },
    {
      "cell_type": "code",
      "source": [
        "fruit = ['사과','배','감','포도']\n",
        "fruit.append('딸기')\n",
        "if '딸기' in fruit: #if '딸기' not in fruit:\n",
        "  print(\"딸기가 있습니다\")\n",
        "print(fruit)"
      ],
      "metadata": {
        "colab": {
          "base_uri": "https://localhost:8080/"
        },
        "id": "YHvV8dG87WAF",
        "outputId": "e68e201b-fc02-45ae-a1ca-502eda7872dd"
      },
      "execution_count": null,
      "outputs": [
        {
          "output_type": "stream",
          "name": "stdout",
          "text": [
            "딸기가 없습니다\n",
            "['사과', '배', '감', '포도', '딸기']\n"
          ]
        }
      ]
    },
    {
      "cell_type": "code",
      "source": [
        "import random\n",
        "number = []\n",
        "for num in range(0,7):\n",
        "  number.append(random.randrange(0,46))\n",
        "print(\"생성된 리스트\", number)"
      ],
      "metadata": {
        "colab": {
          "base_uri": "https://localhost:8080/"
        },
        "id": "BrSeNzT885JE",
        "outputId": "03ba473c-08f9-4c2d-fc87-fb9503d1711c"
      },
      "execution_count": null,
      "outputs": [
        {
          "output_type": "stream",
          "name": "stdout",
          "text": [
            "생성된 리스트 [14, 23, 41, 19, 32, 8, 12]\n"
          ]
        }
      ]
    },
    {
      "cell_type": "markdown",
      "source": [
        "## 반복문"
      ],
      "metadata": {
        "id": "vTzmmJ8u-mRX"
      }
    },
    {
      "cell_type": "code",
      "source": [
        "for i in range(0,3,1): # 시작값, 끝값+1,증가값\n",
        "  print(\"%d 안녕하세요~\" % i)\n",
        "print(\"반갑습니다\")"
      ],
      "metadata": {
        "colab": {
          "base_uri": "https://localhost:8080/"
        },
        "id": "P3nQw4rl-oYd",
        "outputId": "e32aa57d-cec0-41f1-a21d-e535c12ad941"
      },
      "execution_count": null,
      "outputs": [
        {
          "output_type": "stream",
          "name": "stdout",
          "text": [
            "0 안녕하세요~\n",
            "1 안녕하세요~\n",
            "2 안녕하세요~\n",
            "반갑습니다\n"
          ]
        }
      ]
    },
    {
      "cell_type": "code",
      "source": [
        "for i in range(1,9,1):\n",
        "  print(\"%d\" % i, end=\" \")\n",
        "print(\"\\n\")\n",
        "for i in range(1,9,1):\n",
        "  print(\"%d\" % i, end=\" \")"
      ],
      "metadata": {
        "colab": {
          "base_uri": "https://localhost:8080/"
        },
        "id": "Jl2gJ1jk_1Ks",
        "outputId": "62524936-bcc6-4216-f08e-76c052e88aff"
      },
      "execution_count": null,
      "outputs": [
        {
          "output_type": "stream",
          "name": "stdout",
          "text": [
            "1 2 3 4 5 6 7 8 \n",
            "\n",
            "1 2 3 4 5 6 7 8 "
          ]
        }
      ]
    },
    {
      "cell_type": "code",
      "source": [
        "sum=0\n",
        "for i in range(1,11,1):\n",
        "  sum = sum + i\n",
        "print(\"1~10까지 합 : %d\" % sum)"
      ],
      "metadata": {
        "colab": {
          "base_uri": "https://localhost:8080/"
        },
        "id": "9HIzpSK5AzuE",
        "outputId": "63e21a2f-b4ef-43e4-f968-363a1ed04c73"
      },
      "execution_count": null,
      "outputs": [
        {
          "output_type": "stream",
          "name": "stdout",
          "text": [
            "1~10까지 합 : 55\n"
          ]
        }
      ]
    },
    {
      "cell_type": "markdown",
      "source": [
        "#### 퀴즈3 : 숫자 입력을 받아 1부터 입력된 숫자까지의 합을 for문을 활용하여 출력하시오"
      ],
      "metadata": {
        "id": "eMiJ1bv9By3k"
      }
    },
    {
      "cell_type": "code",
      "source": [
        "sum=0\n",
        "a = int(input(\"값을 입력하시오 : \"))\n",
        "for i in range(1,a+1,1):\n",
        "  sum = sum + i\n",
        "print(\"1~n 까지의 합 : %d\" % sum)"
      ],
      "metadata": {
        "colab": {
          "base_uri": "https://localhost:8080/"
        },
        "id": "xLhBNMTwCBVV",
        "outputId": "68cd23e8-1004-4a10-8993-95214b6a2c70"
      },
      "execution_count": null,
      "outputs": [
        {
          "output_type": "stream",
          "name": "stdout",
          "text": [
            "값을 입력하시오 : 10\n",
            "1~n 까지의 합 : 55\n"
          ]
        }
      ]
    },
    {
      "cell_type": "markdown",
      "source": [
        "#### 중첩 for문"
      ],
      "metadata": {
        "id": "8eOf9LnPDiob"
      }
    },
    {
      "cell_type": "markdown",
      "source": [
        "# 퀴즈 구구단을 2,3,4,5 출력 후 줄 바꿔서 출력하시오."
      ],
      "metadata": {
        "id": "UQKZyp5ZKefK"
      }
    },
    {
      "cell_type": "code",
      "source": [
        "i,j=0,0\n",
        "for i in range(1,10,1):\n",
        "  for j in range(2,6,1):\n",
        "     print(\"%d x %d = %d\" % (j,i,i*j), end='\\t')\n",
        "  print(\"\")\n",
        "print(\"\\n\")\n",
        "for i in range(1,10,1):\n",
        "  for j in range(6,10,1):\n",
        "     print(\"%d x %d = %d\" % (j, i, i*j), end='\\t')\n",
        "  print(\"\")"
      ],
      "metadata": {
        "colab": {
          "base_uri": "https://localhost:8080/"
        },
        "id": "Al46i3-MDqMz",
        "outputId": "fe4d2267-3fc4-4040-b0cb-bb823a726f41"
      },
      "execution_count": null,
      "outputs": [
        {
          "output_type": "stream",
          "name": "stdout",
          "text": [
            "2 x 1 = 2\t3 x 1 = 3\t4 x 1 = 4\t5 x 1 = 5\t\n",
            "2 x 2 = 4\t3 x 2 = 6\t4 x 2 = 8\t5 x 2 = 10\t\n",
            "2 x 3 = 6\t3 x 3 = 9\t4 x 3 = 12\t5 x 3 = 15\t\n",
            "2 x 4 = 8\t3 x 4 = 12\t4 x 4 = 16\t5 x 4 = 20\t\n",
            "2 x 5 = 10\t3 x 5 = 15\t4 x 5 = 20\t5 x 5 = 25\t\n",
            "2 x 6 = 12\t3 x 6 = 18\t4 x 6 = 24\t5 x 6 = 30\t\n",
            "2 x 7 = 14\t3 x 7 = 21\t4 x 7 = 28\t5 x 7 = 35\t\n",
            "2 x 8 = 16\t3 x 8 = 24\t4 x 8 = 32\t5 x 8 = 40\t\n",
            "2 x 9 = 18\t3 x 9 = 27\t4 x 9 = 36\t5 x 9 = 45\t\n",
            "\n",
            "\n",
            "6 x 1 = 6\t7 x 1 = 7\t8 x 1 = 8\t9 x 1 = 9\t\n",
            "6 x 2 = 12\t7 x 2 = 14\t8 x 2 = 16\t9 x 2 = 18\t\n",
            "6 x 3 = 18\t7 x 3 = 21\t8 x 3 = 24\t9 x 3 = 27\t\n",
            "6 x 4 = 24\t7 x 4 = 28\t8 x 4 = 32\t9 x 4 = 36\t\n",
            "6 x 5 = 30\t7 x 5 = 35\t8 x 5 = 40\t9 x 5 = 45\t\n",
            "6 x 6 = 36\t7 x 6 = 42\t8 x 6 = 48\t9 x 6 = 54\t\n",
            "6 x 7 = 42\t7 x 7 = 49\t8 x 7 = 56\t9 x 7 = 63\t\n",
            "6 x 8 = 48\t7 x 8 = 56\t8 x 8 = 64\t9 x 8 = 72\t\n",
            "6 x 9 = 54\t7 x 9 = 63\t8 x 9 = 72\t9 x 9 = 81\t\n"
          ]
        }
      ]
    },
    {
      "cell_type": "markdown",
      "source": [
        "#CH3. 자료형  \n",
        "## 1. 인덱스와 슬라이싱"
      ],
      "metadata": {
        "id": "qNUly65dE9iC"
      }
    },
    {
      "cell_type": "markdown",
      "source": [
        "## 리스트는 대괄호로 정의  \n",
        "index는 0부터 시작함  \n",
        "1=[1, 2, 3, 4, 5, 6, 7, 8, 9, 10]  \n",
        "print(1[0])  \n",
        "1  \n",
        "시험 출제 예정  \n",
        "print(1[0:4])\n",
        "[1, 2, 3, 4]"
      ],
      "metadata": {
        "id": "mkEQUodBFAQG"
      }
    },
    {
      "cell_type": "code",
      "source": [
        "L=[0,1,2,3,4,5,6,7,8,9,10]\n",
        "print(L[1])\n",
        "print(L[0:4]) #미만으로 출력된다.\n",
        "print(L[0:9:3]) #9까지의 값을 0부터 +3해서 출력"
      ],
      "metadata": {
        "id": "8Aj62wbzFCRU",
        "colab": {
          "base_uri": "https://localhost:8080/"
        },
        "outputId": "dea46015-3160-499a-a697-04346c11da73"
      },
      "execution_count": null,
      "outputs": [
        {
          "output_type": "stream",
          "name": "stdout",
          "text": [
            "1\n",
            "[0, 1, 2, 3]\n",
            "[0, 3, 6]\n"
          ]
        }
      ]
    },
    {
      "cell_type": "code",
      "source": [
        "L=[0,1,2,3,4,5,6,7,8,9,10]\n",
        "print(len(L))\n",
        "print(L[len(L)-1])"
      ],
      "metadata": {
        "id": "HouOpctnFD2X",
        "colab": {
          "base_uri": "https://localhost:8080/"
        },
        "outputId": "3e32975e-1c8a-402e-db66-791fb2fb0895"
      },
      "execution_count": null,
      "outputs": [
        {
          "output_type": "stream",
          "name": "stdout",
          "text": [
            "11\n",
            "10\n"
          ]
        }
      ]
    },
    {
      "cell_type": "code",
      "source": [
        "L=[0,1,2,3,4,5,6,7,8,9,10]\n",
        "L[0]=99\n",
        "L[9]='가나다'\n",
        "L[1]=[1,2,3]\n",
        "print(L)\n",
        "print(L[9])"
      ],
      "metadata": {
        "id": "zy3BO97VFFBY",
        "colab": {
          "base_uri": "https://localhost:8080/"
        },
        "outputId": "48698a4c-49e0-4bb4-f2c1-03c728a35dd7"
      },
      "execution_count": null,
      "outputs": [
        {
          "output_type": "stream",
          "name": "stdout",
          "text": [
            "[99, [1, 2, 3], 2, 3, 4, 5, 6, 7, 8, '가나다', 10]\n",
            "가나다\n"
          ]
        }
      ]
    },
    {
      "cell_type": "code",
      "source": [
        "a=[1,2,3]\n",
        "b=[4,5,6]\n",
        "c=a+b\n",
        "print(a+b)\n",
        "print(c)\n",
        "print(a*3) #를 3번 출력"
      ],
      "metadata": {
        "id": "XmGk1MLTFGPj",
        "colab": {
          "base_uri": "https://localhost:8080/"
        },
        "outputId": "59130241-446d-478e-e8aa-c9e0ba8621e9"
      },
      "execution_count": null,
      "outputs": [
        {
          "output_type": "stream",
          "name": "stdout",
          "text": [
            "[1, 2, 3, 4, 5, 6]\n",
            "[1, 2, 3, 4, 5, 6]\n",
            "[1, 2, 3, 1, 2, 3, 1, 2, 3]\n"
          ]
        }
      ]
    },
    {
      "cell_type": "code",
      "source": [
        "L=[1,2,3,4,5]\n",
        "print(L)\n",
        "L.append(6) #L에 6을 추가하라는 명령어 append로 추가할 시 리스트의 마지막에 추가됨\n",
        "print(L)\n",
        "L.remove(3) # 해당 요소값을 삭제하는 명령어\n",
        "print(L)"
      ],
      "metadata": {
        "id": "hH4O9YjkFHzW",
        "colab": {
          "base_uri": "https://localhost:8080/"
        },
        "outputId": "d58b888b-4757-47de-b714-5b554f30711c"
      },
      "execution_count": null,
      "outputs": [
        {
          "output_type": "stream",
          "name": "stdout",
          "text": [
            "[1, 2, 3, 4, 5]\n",
            "[1, 2, 3, 4, 5, 6]\n",
            "[1, 2, 4, 5, 6]\n"
          ]
        }
      ]
    },
    {
      "cell_type": "code",
      "source": [
        "k=['a','b','c','d']\n",
        "k.remove('d')\n",
        "print(k)"
      ],
      "metadata": {
        "id": "C5EVmk5RFIxB",
        "colab": {
          "base_uri": "https://localhost:8080/"
        },
        "outputId": "63f64761-f28a-4480-e07f-c28a87acef4f"
      },
      "execution_count": null,
      "outputs": [
        {
          "output_type": "stream",
          "name": "stdout",
          "text": [
            "['a', 'b', 'c']\n"
          ]
        }
      ]
    },
    {
      "cell_type": "code",
      "source": [
        "k=\"Guns Germs and Steel!\"\n",
        "print(k[:3])\n",
        "print(k[5:])\n",
        "print(k[-10:-1])"
      ],
      "metadata": {
        "id": "GM-H8-vhFJ2c",
        "colab": {
          "base_uri": "https://localhost:8080/"
        },
        "outputId": "1770af49-53b9-44cb-cdff-a053d3d0e8ea"
      },
      "execution_count": null,
      "outputs": [
        {
          "output_type": "stream",
          "name": "stdout",
          "text": [
            "Gun\n",
            "Germs and Steel!\n",
            "and Steel\n"
          ]
        }
      ]
    },
    {
      "cell_type": "code",
      "source": [
        "k=\" God is love!\"\n",
        "print(k.upper()) # 대문자\n",
        "print(k.lower()) # 소문자\n",
        "print(k.strip()) # 띄어쓰기 공간 제거"
      ],
      "metadata": {
        "id": "DvHq-j6BFK8G",
        "colab": {
          "base_uri": "https://localhost:8080/"
        },
        "outputId": "cad1db68-b4ca-4a93-e70a-3e45626f455c"
      },
      "execution_count": null,
      "outputs": [
        {
          "output_type": "stream",
          "name": "stdout",
          "text": [
            " GOD IS LOVE!\n",
            " god is love!\n",
            "God is love!\n"
          ]
        }
      ]
    },
    {
      "cell_type": "code",
      "source": [
        "a=\" God, is, love!\"\n",
        "print(a.split(\",\")) # 구분"
      ],
      "metadata": {
        "id": "6uNlifoMFMbw",
        "colab": {
          "base_uri": "https://localhost:8080/"
        },
        "outputId": "fef6cf5c-8bef-4496-f3f7-bbefc50c7919"
      },
      "execution_count": null,
      "outputs": [
        {
          "output_type": "stream",
          "name": "stdout",
          "text": [
            "[' God', ' is', ' love!']\n"
          ]
        }
      ]
    },
    {
      "cell_type": "code",
      "source": [
        "a=[\"apple\",\"banana\",\"cherry\"]\n",
        "a.append(\"orange\")\n",
        "print(a)"
      ],
      "metadata": {
        "id": "KBp-O2Z6FNhv",
        "colab": {
          "base_uri": "https://localhost:8080/"
        },
        "outputId": "21f72531-eb84-489a-9aa0-91e432deefa5"
      },
      "execution_count": null,
      "outputs": [
        {
          "output_type": "stream",
          "name": "stdout",
          "text": [
            "['apple', 'banana', 'cherry', 'orange']\n"
          ]
        }
      ]
    },
    {
      "cell_type": "code",
      "source": [
        "a =[\"apple\",\"banana\",\"cherry\"]\n",
        "a.insert(1,\"orange\") #.insert:지정된 곳에 요소값 삽입\n",
        "print(a)"
      ],
      "metadata": {
        "id": "Kau6E9mOFOx1",
        "colab": {
          "base_uri": "https://localhost:8080/"
        },
        "outputId": "a79e4964-6dec-41a0-f21e-0ec27e3ff738"
      },
      "execution_count": null,
      "outputs": [
        {
          "output_type": "stream",
          "name": "stdout",
          "text": [
            "['apple', 'orange', 'banana', 'cherry']\n"
          ]
        }
      ]
    },
    {
      "cell_type": "code",
      "source": [
        "a =[\"apple\",\"banana\",\"cherry\"]\n",
        "a.remove(\"banana\") # .remove:지정한 요소값 삭제\n",
        "print(a)"
      ],
      "metadata": {
        "id": "mFKk2Ax8FQBK",
        "colab": {
          "base_uri": "https://localhost:8080/"
        },
        "outputId": "96c2f23c-2dd0-4f08-e43a-4e3715cb32be"
      },
      "execution_count": null,
      "outputs": [
        {
          "output_type": "stream",
          "name": "stdout",
          "text": [
            "['apple', 'cherry']\n"
          ]
        }
      ]
    },
    {
      "cell_type": "code",
      "source": [
        "a =[\"apple\",\"banana\",\"cherry\"]\n",
        "a.pop() # .pop은 지정없이 적용하면 마지막 요소값이 제거됨\n",
        "print(a)\n",
        "a.pop(1) # 지정한 위치인 banana가 사라짐\n",
        "print(a)"
      ],
      "metadata": {
        "id": "q0pZB4MyFRSV",
        "colab": {
          "base_uri": "https://localhost:8080/"
        },
        "outputId": "e325f60a-ef04-475e-cbef-ae9661a48141"
      },
      "execution_count": null,
      "outputs": [
        {
          "output_type": "stream",
          "name": "stdout",
          "text": [
            "['apple', 'banana']\n",
            "['apple']\n"
          ]
        }
      ]
    },
    {
      "cell_type": "code",
      "source": [
        "a =[\"apple\",\"banana\",\"cherry\"]\n",
        "del a[0] #지정 삭제 del a 는 전체 삭제\n",
        "print(a)\n",
        "a.clear() #del a\n",
        "print(a)"
      ],
      "metadata": {
        "id": "rhXvkZFOFSPT",
        "colab": {
          "base_uri": "https://localhost:8080/"
        },
        "outputId": "5f67c81d-d6e5-4311-a248-6ce150180c68"
      },
      "execution_count": null,
      "outputs": [
        {
          "output_type": "stream",
          "name": "stdout",
          "text": [
            "['banana', 'cherry']\n",
            "[]\n"
          ]
        }
      ]
    },
    {
      "cell_type": "code",
      "source": [
        "fruit=[\"apple\",\"banana\",\"cherry\"]\n",
        "for x in fruit:\n",
        "  print(x)"
      ],
      "metadata": {
        "id": "yhM17F6bFTR0",
        "colab": {
          "base_uri": "https://localhost:8080/"
        },
        "outputId": "8bb1b0a7-aced-4294-ae73-0e55b0775748"
      },
      "execution_count": null,
      "outputs": [
        {
          "output_type": "stream",
          "name": "stdout",
          "text": [
            "apple\n",
            "banana\n",
            "cherry\n"
          ]
        }
      ]
    },
    {
      "cell_type": "code",
      "source": [
        "fruit=[\"apple\",\"banana\",\"cherry\"]\n",
        "for i in range(len(fruit)):\n",
        "  print(fruit)"
      ],
      "metadata": {
        "id": "9QGZ94JgFUZ_",
        "colab": {
          "base_uri": "https://localhost:8080/"
        },
        "outputId": "9dde57b2-8879-4060-b6c3-0ab8aeb4c991"
      },
      "execution_count": null,
      "outputs": [
        {
          "output_type": "stream",
          "name": "stdout",
          "text": [
            "['apple', 'banana', 'cherry']\n",
            "['apple', 'banana', 'cherry']\n",
            "['apple', 'banana', 'cherry']\n"
          ]
        }
      ]
    },
    {
      "cell_type": "markdown",
      "source": [
        "#### SORT"
      ],
      "metadata": {
        "id": "AZ3P_XLsFV_t"
      }
    },
    {
      "cell_type": "code",
      "source": [
        "a=[5,3,6,8,1,9,0]\n",
        "a.sort() # 순서대로 정렬\n",
        "print(a)"
      ],
      "metadata": {
        "id": "MtXzE0qYFXJo",
        "colab": {
          "base_uri": "https://localhost:8080/"
        },
        "outputId": "bcc95a6f-45f9-4ca9-c6cf-6a7db7e07421"
      },
      "execution_count": null,
      "outputs": [
        {
          "output_type": "stream",
          "name": "stdout",
          "text": [
            "[0, 1, 3, 5, 6, 8, 9]\n"
          ]
        }
      ]
    },
    {
      "cell_type": "code",
      "source": [
        "a=[5,3,6,8,1,9,0,2,4,7]\n",
        "a.sort(reverse=True) # 역정렬\n",
        "print(a)"
      ],
      "metadata": {
        "id": "gX1qIi3bFYKn",
        "colab": {
          "base_uri": "https://localhost:8080/"
        },
        "outputId": "1b831d40-5fdf-4860-d74d-01fb4ed443b1"
      },
      "execution_count": null,
      "outputs": [
        {
          "output_type": "stream",
          "name": "stdout",
          "text": [
            "[9, 8, 7, 6, 5, 4, 3, 2, 1, 0]\n"
          ]
        }
      ]
    },
    {
      "cell_type": "code",
      "source": [
        "fruit=[\"apple\",\"banana\",\"Kiwi\",\"cherry\",\"orange\"]\n",
        "fruit.sort() # 대소문자 구분하여 정렬\n",
        "print(fruit)\n",
        "fruit.sort(key=str.lower) # 대소문자 구분 없이 정렬\n",
        "print(fruit)\n",
        "fruit.reverse()\n",
        "print(fruit) #역정렬"
      ],
      "metadata": {
        "id": "hrJCv9TCFZmo",
        "colab": {
          "base_uri": "https://localhost:8080/"
        },
        "outputId": "cef2c85a-b08e-4e11-bbcd-7687035f1565"
      },
      "execution_count": null,
      "outputs": [
        {
          "output_type": "stream",
          "name": "stdout",
          "text": [
            "['Kiwi', 'apple', 'banana', 'cherry', 'orange']\n",
            "['apple', 'banana', 'cherry', 'Kiwi', 'orange']\n",
            "['orange', 'Kiwi', 'cherry', 'banana', 'apple']\n"
          ]
        }
      ]
    },
    {
      "cell_type": "code",
      "source": [
        "fruit=[\"apple\",\"banana\",\"Kiwi\",\"cherry\",\"orange\"]\n",
        "myList=fruit.copy()\n",
        "print(myList)\n",
        "cpList=list(fruit)\n",
        "print(cpList)"
      ],
      "metadata": {
        "id": "HlA_6oHHFagZ",
        "colab": {
          "base_uri": "https://localhost:8080/"
        },
        "outputId": "00e0132f-72eb-4d47-916d-698fab68e4e5"
      },
      "execution_count": null,
      "outputs": [
        {
          "output_type": "stream",
          "name": "stdout",
          "text": [
            "['apple', 'banana', 'Kiwi', 'cherry', 'orange']\n",
            "['apple', 'banana', 'Kiwi', 'cherry', 'orange']\n"
          ]
        }
      ]
    },
    {
      "cell_type": "markdown",
      "source": [
        "## 튜플 자료형 Tuple   \n",
        "리스트와 비슷하지만 값을 변경할 수 없음  \n",
        "(시험 출제 예정)"
      ],
      "metadata": {
        "id": "u4IMxtyTFcBJ"
      }
    },
    {
      "cell_type": "code",
      "source": [
        "l=[1,2,3]\n",
        "t=(4,5,6) #튜플은 ()를 사용한다. (시험 출제가능성 높음)\n",
        "l[0]=5\n",
        "print(l)\n",
        "print(t)"
      ],
      "metadata": {
        "id": "HErOAYq0FdgC",
        "colab": {
          "base_uri": "https://localhost:8080/"
        },
        "outputId": "5778a79f-bf07-43c5-d78d-2a87ee47d75a"
      },
      "execution_count": null,
      "outputs": [
        {
          "output_type": "stream",
          "name": "stdout",
          "text": [
            "[5, 2, 3]\n",
            "(4, 5, 6)\n"
          ]
        }
      ]
    },
    {
      "cell_type": "code",
      "source": [
        "t=(\"apple\",) # 1가지 함수를 튜플로 인식시키기 위해서는 ,가 있어야 한다.\n",
        "print(t)\n",
        "f=(\"banana\") # ,를 넣지 않았기에 튜플로 인식이 되지 않음\n",
        "print(f)\n",
        "print(type(t))\n",
        "print(type(f))"
      ],
      "metadata": {
        "id": "GN4jWPe6FfBh",
        "colab": {
          "base_uri": "https://localhost:8080/"
        },
        "outputId": "025ad0e2-bcea-448e-bc2b-f0111b0d7472"
      },
      "execution_count": null,
      "outputs": [
        {
          "output_type": "stream",
          "name": "stdout",
          "text": [
            "('apple',)\n",
            "banana\n",
            "<class 'tuple'>\n",
            "<class 'str'>\n"
          ]
        }
      ]
    },
    {
      "cell_type": "code",
      "source": [
        "f=(\"apple\",\"banana\",\"Kiwi\",\"cherry\",\"orange\")\n",
        "print(f[:4])\n",
        "print(f[2:])"
      ],
      "metadata": {
        "id": "zfQqLggYFgVp",
        "colab": {
          "base_uri": "https://localhost:8080/"
        },
        "outputId": "bb54ee8b-a2d3-43ae-d79a-5d8904631675"
      },
      "execution_count": null,
      "outputs": [
        {
          "output_type": "stream",
          "name": "stdout",
          "text": [
            "('apple', 'banana', 'Kiwi', 'cherry')\n",
            "('Kiwi', 'cherry', 'orange')\n"
          ]
        }
      ]
    },
    {
      "cell_type": "code",
      "source": [
        "f=(\"apple\",\"banana\",\"Kiwi\",\"cherry\",\"Orange\")\n",
        "if \"apple\" in f:\n",
        "  print(\"Yes, 'apple' is in\")\n",
        "else:\n",
        "  print(\"No\")"
      ],
      "metadata": {
        "id": "cbxtcAMiFhe1",
        "colab": {
          "base_uri": "https://localhost:8080/"
        },
        "outputId": "27aae57f-8a42-40d2-b10d-5cdd987e009e"
      },
      "execution_count": null,
      "outputs": [
        {
          "output_type": "stream",
          "name": "stdout",
          "text": [
            "Yes, 'apple' is in\n"
          ]
        }
      ]
    },
    {
      "cell_type": "markdown",
      "source": [
        "####list<->tuple"
      ],
      "metadata": {
        "id": "A_75GKaBFi5n"
      }
    },
    {
      "cell_type": "code",
      "source": [
        "firm=['Samsung','LG','SK']\n",
        "tdata=tuple(firm)\n",
        "print(firm)\n",
        "print(tdata)"
      ],
      "metadata": {
        "id": "to_o8bLHFkHH",
        "colab": {
          "base_uri": "https://localhost:8080/"
        },
        "outputId": "afc262ac-4b15-44b6-be16-da6d6e0e06c2"
      },
      "execution_count": null,
      "outputs": [
        {
          "output_type": "stream",
          "name": "stdout",
          "text": [
            "['Samsung', 'LG', 'SK']\n",
            "('Samsung', 'LG', 'SK')\n"
          ]
        }
      ]
    },
    {
      "cell_type": "code",
      "source": [
        "t=(\"apple\",\"banana\",\"Kiwi\",\"cherry\")\n",
        "y=list(t) \n",
        "y.append(\"Orange\")\n",
        "t=tuple(y) # 튜플을 list로 바꾼다음 Orange를 넣고 다시 튜플로 변환함(시험출제 가능성 높음)\n",
        "print(t)"
      ],
      "metadata": {
        "id": "q5ZGhaRqFlTU",
        "colab": {
          "base_uri": "https://localhost:8080/"
        },
        "outputId": "f95cbe26-a7be-44b3-d3cf-7212a50f7cd2"
      },
      "execution_count": null,
      "outputs": [
        {
          "output_type": "stream",
          "name": "stdout",
          "text": [
            "('apple', 'banana', 'Kiwi', 'cherry', 'Orange')\n"
          ]
        }
      ]
    },
    {
      "cell_type": "code",
      "source": [
        "t=(\"apple\",\"banana\",\"cherry\")\n",
        "q=(\"kiwi\",)\n",
        "t += q\n",
        "print(t)"
      ],
      "metadata": {
        "id": "FoY87rzVFmai",
        "colab": {
          "base_uri": "https://localhost:8080/"
        },
        "outputId": "68d50da7-73cd-435d-e40d-5c67a06ef997"
      },
      "execution_count": null,
      "outputs": [
        {
          "output_type": "stream",
          "name": "stdout",
          "text": [
            "('apple', 'banana', 'cherry', 'kiwi')\n"
          ]
        }
      ]
    },
    {
      "cell_type": "code",
      "source": [
        "t=(\"apple\",\"banana\",\"Kiwi\",\"cherry\")\n",
        "l=list(t)\n",
        "l.remove(\"Kiwi\")\n",
        "t=tuple(l)\n",
        "print(t)\n",
        "del t # 튜플도 삭제 자체는 가능하다.\n",
        "# print t"
      ],
      "metadata": {
        "id": "7qAQF1aEFngC",
        "colab": {
          "base_uri": "https://localhost:8080/"
        },
        "outputId": "90c4bbd5-9a01-4475-9b96-38133401bb5e"
      },
      "execution_count": null,
      "outputs": [
        {
          "output_type": "stream",
          "name": "stdout",
          "text": [
            "('apple', 'banana', 'cherry')\n"
          ]
        }
      ]
    },
    {
      "cell_type": "markdown",
      "source": [
        "#### 사전(Dict) 자료형  \n",
        "키값을 사용하고 중괄호{}를 사용한다.  \n"
      ],
      "metadata": {
        "id": "r9ReXZ8SFosq"
      }
    },
    {
      "cell_type": "code",
      "source": [
        "d={\n",
        "    'a':1,\n",
        "    'b':2,\n",
        "    'c':3\n",
        "}\n",
        "print(d)\n",
        "print(d.keys())\n",
        "print(d.values())\n",
        "print(d.items())"
      ],
      "metadata": {
        "id": "MPt4m6NhFp-s",
        "colab": {
          "base_uri": "https://localhost:8080/"
        },
        "outputId": "abb119b0-1fd8-4061-b768-e96108cede0a"
      },
      "execution_count": null,
      "outputs": [
        {
          "output_type": "stream",
          "name": "stdout",
          "text": [
            "{'a': 1, 'b': 2, 'c': 3}\n",
            "dict_keys(['a', 'b', 'c'])\n",
            "dict_values([1, 2, 3])\n",
            "dict_items([('a', 1), ('b', 2), ('c', 3)])\n"
          ]
        }
      ]
    },
    {
      "cell_type": "code",
      "source": [
        "car={\n",
        "    \"brand\":\"BM\",\n",
        "    \"model\":\"GT\",\n",
        "    \"year\" :\"1988\"\n",
        "}\n",
        "print(car)\n",
        "print(len(car))\n",
        "car[\"year\"]=2000\n",
        "car[\"item\"]=123456\n",
        "car.update({\"color\":\"red\"})\n",
        "print(car)"
      ],
      "metadata": {
        "id": "d4scY_P_FrtP",
        "colab": {
          "base_uri": "https://localhost:8080/"
        },
        "outputId": "954fab35-e1b8-4145-dbe8-9f9aaa5039b2"
      },
      "execution_count": null,
      "outputs": [
        {
          "output_type": "stream",
          "name": "stdout",
          "text": [
            "{'brand': 'BM', 'model': 'GT', 'year': '1988'}\n",
            "3\n",
            "{'brand': 'BM', 'model': 'GT', 'year': 2000, 'item': 123456, 'color': 'red'}\n"
          ]
        }
      ]
    },
    {
      "cell_type": "code",
      "source": [
        "# 항목 제거\n",
        "car={\n",
        "    \"brand\":\"BM\",\n",
        "    \"model\":\"GT\",\n",
        "    \"year\" :\"1988\"\n",
        "}\n",
        "car.pop(\"model\")\n",
        "print(car)"
      ],
      "metadata": {
        "id": "4C9G_UqZFtOP",
        "colab": {
          "base_uri": "https://localhost:8080/"
        },
        "outputId": "b9afd354-de6b-410c-8e19-1487ecafc0be"
      },
      "execution_count": null,
      "outputs": [
        {
          "output_type": "stream",
          "name": "stdout",
          "text": [
            "{'brand': 'BM', 'year': '1988'}\n"
          ]
        }
      ]
    },
    {
      "cell_type": "code",
      "source": [
        "car={\n",
        "    \"brand\":\"BM\",\n",
        "    \"model\":\"GT\",\n",
        "    \"year\" :\"1988\"\n",
        "}\n",
        "car.popitem()\n",
        "print(car)"
      ],
      "metadata": {
        "id": "v70_i5d1FuEo",
        "colab": {
          "base_uri": "https://localhost:8080/"
        },
        "outputId": "f07674d9-cf9e-47f3-a9c7-dc2eb5a37a7a"
      },
      "execution_count": null,
      "outputs": [
        {
          "output_type": "stream",
          "name": "stdout",
          "text": [
            "{'brand': 'BM', 'model': 'GT'}\n"
          ]
        }
      ]
    },
    {
      "cell_type": "code",
      "source": [
        "car={\n",
        "    \"brand\":\"BM\",\n",
        "    \"model\":\"GT\",\n",
        "    \"year\" :\"1988\"\n",
        "}\n",
        "car.clear() # 비움\n",
        "del car # 삭제"
      ],
      "metadata": {
        "id": "2s0YmvAbFu9C"
      },
      "execution_count": null,
      "outputs": []
    },
    {
      "cell_type": "markdown",
      "source": [
        "#### LOOP"
      ],
      "metadata": {
        "id": "HjmZ6-vTFwMf"
      }
    },
    {
      "cell_type": "code",
      "source": [
        "# 값을 하나씩 인쇄\n",
        "car={\n",
        "    \"brand\":\"BM\",\n",
        "    \"model\":\"GT\",\n",
        "    \"year\" :1988\n",
        "}\n",
        "for x in car:\n",
        "  print(car[x])"
      ],
      "metadata": {
        "id": "Wwrkm-FdFxUf",
        "colab": {
          "base_uri": "https://localhost:8080/"
        },
        "outputId": "b923be68-2a8b-4b9b-8f14-114da29e9a0e"
      },
      "execution_count": null,
      "outputs": [
        {
          "output_type": "stream",
          "name": "stdout",
          "text": [
            "BM\n",
            "GT\n",
            "1988\n"
          ]
        }
      ]
    },
    {
      "cell_type": "code",
      "source": [
        "car={\n",
        "    \"brand\":\"BM\",\n",
        "    \"model\":\"GT\",\n",
        "    \"year\" :1988\n",
        "}\n",
        "for x in car.keys():\n",
        "  print(x)"
      ],
      "metadata": {
        "id": "QlpKsi28Fyi8",
        "colab": {
          "base_uri": "https://localhost:8080/"
        },
        "outputId": "9dd9366a-8cec-4c25-cfd8-acc6efb31c60"
      },
      "execution_count": null,
      "outputs": [
        {
          "output_type": "stream",
          "name": "stdout",
          "text": [
            "brand\n",
            "model\n",
            "year\n"
          ]
        }
      ]
    },
    {
      "cell_type": "code",
      "source": [
        "car={\n",
        "    \"brand\":\"BM\",\n",
        "    \"model\":\"GT\",\n",
        "    \"year\" :1988\n",
        "}\n",
        "for x in car.values():\n",
        "  print(x)"
      ],
      "metadata": {
        "id": "KXd_k82uFzuU",
        "colab": {
          "base_uri": "https://localhost:8080/"
        },
        "outputId": "b35869a5-d2f0-49c8-98f8-f234d9424384"
      },
      "execution_count": null,
      "outputs": [
        {
          "output_type": "stream",
          "name": "stdout",
          "text": [
            "BM\n",
            "GT\n",
            "1988\n"
          ]
        }
      ]
    },
    {
      "cell_type": "code",
      "source": [
        "car={\n",
        "    \"brand\":\"BM\",\n",
        "    \"model\":\"GT\",\n",
        "    \"year\" :1988\n",
        "}\n",
        "for x,y in car.items():\n",
        "  print(x,y)"
      ],
      "metadata": {
        "id": "xnKRT9cNF01Y",
        "colab": {
          "base_uri": "https://localhost:8080/"
        },
        "outputId": "ebabd7ea-f83d-4b72-ab89-e0b9231167aa"
      },
      "execution_count": null,
      "outputs": [
        {
          "output_type": "stream",
          "name": "stdout",
          "text": [
            "brand BM\n",
            "model GT\n",
            "year 1988\n"
          ]
        }
      ]
    },
    {
      "cell_type": "code",
      "source": [
        "car={\n",
        "    \"brand\":\"BM\",\n",
        "    \"model\":\"GT\",\n",
        "    \"year\" :1988\n",
        "}\n",
        "myCar=car.copy()\n",
        "print(myCar)"
      ],
      "metadata": {
        "id": "AsIml8WnF18m",
        "colab": {
          "base_uri": "https://localhost:8080/"
        },
        "outputId": "eeb6a568-f5c3-455d-fcaf-5d88f39492d6"
      },
      "execution_count": null,
      "outputs": [
        {
          "output_type": "stream",
          "name": "stdout",
          "text": [
            "{'brand': 'BM', 'model': 'GT', 'year': 1988}\n"
          ]
        }
      ]
    },
    {
      "cell_type": "code",
      "source": [
        "car={\n",
        "    \"brand\":\"BM\",\n",
        "    \"model\":\"GT\",\n",
        "    \"year\" :1988\n",
        "}\n",
        "myCar=dict(car)\n",
        "print(myCar)"
      ],
      "metadata": {
        "id": "U0bsuCXaF2-t",
        "colab": {
          "base_uri": "https://localhost:8080/"
        },
        "outputId": "9cd74539-9043-4f9e-eda0-431e7086b818"
      },
      "execution_count": null,
      "outputs": [
        {
          "output_type": "stream",
          "name": "stdout",
          "text": [
            "{'brand': 'BM', 'model': 'GT', 'year': 1988}\n"
          ]
        }
      ]
    },
    {
      "cell_type": "code",
      "source": [
        "name1={\"name\":\"놀부\",\"year\":2001}\n",
        "name2={\"name\":\"흥부\",\"year\":2010}\n",
        "name3={\"name\":\"제비\",\"year\":2015}\n",
        "story={\n",
        "    \"name1\":name1,\n",
        "    \"name2\":name2,\n",
        "    \"name3\":name3\n",
        "}\n",
        "print(story)"
      ],
      "metadata": {
        "id": "V1Tfxwy_F34s",
        "colab": {
          "base_uri": "https://localhost:8080/"
        },
        "outputId": "06cd1de2-696b-4e03-feb3-a83b4f933c9b"
      },
      "execution_count": null,
      "outputs": [
        {
          "output_type": "stream",
          "name": "stdout",
          "text": [
            "{'name1': {'name': '놀부', 'year': 2001}, 'name2': {'name': '흥부', 'year': 2010}, 'name3': {'name': '제비', 'year': 2015}}\n"
          ]
        }
      ]
    },
    {
      "cell_type": "markdown",
      "source": [
        "# CH4 조건문, 반복문 "
      ],
      "metadata": {
        "id": "UyaiXLK_uEbv"
      }
    },
    {
      "cell_type": "markdown",
      "source": [
        "## 중첩 if문"
      ],
      "metadata": {
        "id": "84oPLpfWuIJG"
      }
    },
    {
      "cell_type": "code",
      "source": [
        "score = int(input(\"정수를 입력해 주세요 : \"))\n",
        "if (score > 100):\n",
        "  print(\"0~100까지의 숫자로 입력하세요.\")\n",
        "else:\n",
        "  if(score >= 90):\n",
        "    print(\"A\", end=' ')\n",
        "  elif(score >= 80):\n",
        "    print(\"B\", end=' ')\n",
        "  elif(score >= 70):\n",
        "    print(\"C\", end=' ')\n",
        "  elif(score >= 60):\n",
        "    print(\"D\", end=' ')\n",
        "  else:\n",
        "    print(\"F\", end=' ')\n",
        "  print(\"학점. 점수: %d\" %score) "
      ],
      "metadata": {
        "colab": {
          "base_uri": "https://localhost:8080/"
        },
        "id": "o7KRURI5wrE1",
        "outputId": "bf46a2bc-b009-4e02-c847-59c1500beaa3"
      },
      "execution_count": null,
      "outputs": [
        {
          "output_type": "stream",
          "name": "stdout",
          "text": [
            "정수를 입력해 주세요 : 64\n",
            "D 학점. 점수: 64\n"
          ]
        }
      ]
    },
    {
      "cell_type": "code",
      "source": [
        "import random\n",
        "\n",
        "numbers = []\n",
        "for num in range(0,10):\n",
        "  numbers.append(random.randrange(0,10))\n",
        "\n",
        "print(\"생성된 리스트\", numbers)\n",
        "\n",
        "for num in range(0,10):\n",
        "  if num not in numbers:\n",
        "    print(\"숫자 %d는 리스트에 없습니다.\" %num)\n",
        "  else:\n",
        "    print(\"숫자 %d는 리스트에 있습니다.\" %num)"
      ],
      "metadata": {
        "colab": {
          "base_uri": "https://localhost:8080/"
        },
        "id": "Pdmue4KRzaws",
        "outputId": "c71ce871-f00a-4e0b-8e01-23c74fb2fbb6"
      },
      "execution_count": null,
      "outputs": [
        {
          "output_type": "stream",
          "name": "stdout",
          "text": [
            "생성된 리스트 [9, 1, 0, 5, 2, 8, 3, 4, 6, 5]\n",
            "숫자 0는 리스트에 있습니다.\n",
            "숫자 1는 리스트에 있습니다.\n",
            "숫자 2는 리스트에 있습니다.\n",
            "숫자 3는 리스트에 있습니다.\n",
            "숫자 4는 리스트에 있습니다.\n",
            "숫자 5는 리스트에 있습니다.\n",
            "숫자 6는 리스트에 있습니다.\n",
            "숫자 7는 리스트에 없습니다.\n",
            "숫자 8는 리스트에 있습니다.\n",
            "숫자 9는 리스트에 있습니다.\n"
          ]
        }
      ]
    },
    {
      "cell_type": "code",
      "source": [
        "select, anwser, numStr, num1, num2 = 0,0,\"\",0,0\n",
        "select = int(input(\"1.입력한 수식 계산 2.두 수의 합계 :\"))\n",
        "\n",
        "if select == 1:\n",
        "  numStr = input(\"*** 수식을 입력하세요 :\")\n",
        "  answer = eval(numStr) #1+2\n",
        "  print(\" %s 결과는 %5.1f입니다. \"%(numStr,answer))\n",
        "elif select==2:\n",
        "  num1=int(input(\"*** 첫번째 숫자를 입력하세요: \"))\n",
        "  num2=int(input(\"*** 두번째 숫자를 입력하세요: \"))\n",
        "  for i in range(num1, num2+1):\n",
        "    answer = answer + i\n",
        "  print(\"%d+...+%d는 %d입니다.\" %(num1, num2, answer))\n",
        "else:\n",
        "  print(\"1또는 2만 입력해야합니다.\")"
      ],
      "metadata": {
        "colab": {
          "base_uri": "https://localhost:8080/"
        },
        "id": "_xnZhxau9WPK",
        "outputId": "2b2a00ab-07b0-48bb-8b1b-fd4c1c823803"
      },
      "execution_count": null,
      "outputs": [
        {
          "output_type": "stream",
          "name": "stdout",
          "text": [
            "1.입력한 수식 계산 2.두 수의 합계 :2\n",
            "*** 첫번째 숫자를 입력하세요: 5\n",
            "*** 두번째 숫자를 입력하세요: 7\n",
            "5+...+7는 172입니다.\n"
          ]
        }
      ]
    },
    {
      "cell_type": "markdown",
      "source": [
        "## for & while 반복문"
      ],
      "metadata": {
        "id": "zBs8uzpe-ZRD"
      }
    },
    {
      "cell_type": "code",
      "source": [
        "for i in range(0,3,1):\n",
        "  print(\"안녕!\")"
      ],
      "metadata": {
        "colab": {
          "base_uri": "https://localhost:8080/"
        },
        "id": "UDnVB8Fr-cm9",
        "outputId": "5e2c6fcb-a280-4d58-9c85-3de4f980082e"
      },
      "execution_count": null,
      "outputs": [
        {
          "output_type": "stream",
          "name": "stdout",
          "text": [
            "안녕!\n",
            "안녕!\n",
            "안녕!\n"
          ]
        }
      ]
    },
    {
      "cell_type": "code",
      "source": [
        "for i in [0,3,1]:\n",
        "  print(\"안녕!\")"
      ],
      "metadata": {
        "colab": {
          "base_uri": "https://localhost:8080/"
        },
        "id": "oi5mi4_f-1uL",
        "outputId": "b7b5142b-2a6a-4787-c909-d0a91bd431e5"
      },
      "execution_count": null,
      "outputs": [
        {
          "output_type": "stream",
          "name": "stdout",
          "text": [
            "안녕!\n",
            "안녕!\n",
            "안녕!\n"
          ]
        }
      ]
    },
    {
      "cell_type": "code",
      "source": [
        "for i in range(1,4,1):\n",
        "  for j in range(1,3,1):\n",
        "    print(\"i:%d, j:%d\" %(i,j))"
      ],
      "metadata": {
        "colab": {
          "base_uri": "https://localhost:8080/"
        },
        "id": "2qq5mjCIAdez",
        "outputId": "f3e54566-264b-4bc4-a1ad-656cfa573bdf"
      },
      "execution_count": null,
      "outputs": [
        {
          "output_type": "stream",
          "name": "stdout",
          "text": [
            "i:1, j:1\n",
            "i:1, j:2\n",
            "i:2, j:1\n",
            "i:2, j:2\n",
            "i:3, j:1\n",
            "i:3, j:2\n"
          ]
        }
      ]
    },
    {
      "cell_type": "code",
      "source": [
        "i,j = 0,0\n",
        "for i in range(2,10,1):\n",
        "  for j in range(1,10,1):\n",
        "    print(\"%d x %d = %2d\" %(i,j,i*j), end='\\t')\n",
        "  print(\" \")\n",
        "print(\"\\n\")"
      ],
      "metadata": {
        "colab": {
          "base_uri": "https://localhost:8080/"
        },
        "id": "AW47VkuABMxS",
        "outputId": "9bfde169-1602-474f-8f71-d17d78bb1d6b"
      },
      "execution_count": null,
      "outputs": [
        {
          "output_type": "stream",
          "name": "stdout",
          "text": [
            "2 x 1 =  2\t2 x 2 =  4\t2 x 3 =  6\t2 x 4 =  8\t2 x 5 = 10\t2 x 6 = 12\t2 x 7 = 14\t2 x 8 = 16\t2 x 9 = 18\t \n",
            "3 x 1 =  3\t3 x 2 =  6\t3 x 3 =  9\t3 x 4 = 12\t3 x 5 = 15\t3 x 6 = 18\t3 x 7 = 21\t3 x 8 = 24\t3 x 9 = 27\t \n",
            "4 x 1 =  4\t4 x 2 =  8\t4 x 3 = 12\t4 x 4 = 16\t4 x 5 = 20\t4 x 6 = 24\t4 x 7 = 28\t4 x 8 = 32\t4 x 9 = 36\t \n",
            "5 x 1 =  5\t5 x 2 = 10\t5 x 3 = 15\t5 x 4 = 20\t5 x 5 = 25\t5 x 6 = 30\t5 x 7 = 35\t5 x 8 = 40\t5 x 9 = 45\t \n",
            "6 x 1 =  6\t6 x 2 = 12\t6 x 3 = 18\t6 x 4 = 24\t6 x 5 = 30\t6 x 6 = 36\t6 x 7 = 42\t6 x 8 = 48\t6 x 9 = 54\t \n",
            "7 x 1 =  7\t7 x 2 = 14\t7 x 3 = 21\t7 x 4 = 28\t7 x 5 = 35\t7 x 6 = 42\t7 x 7 = 49\t7 x 8 = 56\t7 x 9 = 63\t \n",
            "8 x 1 =  8\t8 x 2 = 16\t8 x 3 = 24\t8 x 4 = 32\t8 x 5 = 40\t8 x 6 = 48\t8 x 7 = 56\t8 x 8 = 64\t8 x 9 = 72\t \n",
            "9 x 1 =  9\t9 x 2 = 18\t9 x 3 = 27\t9 x 4 = 36\t9 x 5 = 45\t9 x 6 = 54\t9 x 7 = 63\t9 x 8 = 72\t9 x 9 = 81\t \n",
            "\n",
            "\n"
          ]
        }
      ]
    },
    {
      "cell_type": "code",
      "source": [
        "i = 0\n",
        "while i<3:\n",
        "  print(\"%d : while문\" %i)\n",
        "  i = i+1"
      ],
      "metadata": {
        "colab": {
          "base_uri": "https://localhost:8080/"
        },
        "id": "NllJV7kkCWPj",
        "outputId": "14356d60-729d-4fa9-f3af-1066b503e08b"
      },
      "execution_count": null,
      "outputs": [
        {
          "output_type": "stream",
          "name": "stdout",
          "text": [
            "0 : while문\n",
            "2 : while문\n",
            "4 : while문\n",
            "6 : while문\n"
          ]
        }
      ]
    },
    {
      "cell_type": "code",
      "source": [
        "#Q 1부터 10까지 합계를 구하시오 while문으로\n",
        "i, hap = 0,0\n",
        "i = 1\n",
        "while i<11:\n",
        "  hap = hap + i\n",
        "  i=i+1\n",
        "\n",
        "print(\"1부터 10까지의 합계 : %d\" %hap)"
      ],
      "metadata": {
        "colab": {
          "base_uri": "https://localhost:8080/"
        },
        "id": "_2-dferVC2D9",
        "outputId": "52e84a86-5d6c-4a1b-b4be-218b0622611a"
      },
      "execution_count": null,
      "outputs": [
        {
          "output_type": "stream",
          "name": "stdout",
          "text": [
            "1부터 10까지의 합계 : 55\n"
          ]
        }
      ]
    },
    {
      "cell_type": "code",
      "source": [
        "#Q 1부터 10까지 합계를 구하시오 for문으로\n",
        "i,hap = 0,0\n",
        "i=1\n",
        "for i in range(1,11,1):\n",
        "  hap = hap+1\n",
        "print(\"1부터 10까지의 합계 : %d\" %hap)"
      ],
      "metadata": {
        "colab": {
          "base_uri": "https://localhost:8080/"
        },
        "id": "orC9XzAXDc32",
        "outputId": "4cb64a8d-fbad-4f39-ed10-57c0486c6a87"
      },
      "execution_count": null,
      "outputs": [
        {
          "output_type": "stream",
          "name": "stdout",
          "text": [
            "1부터 10까지의 합계 : 10\n"
          ]
        }
      ]
    },
    {
      "cell_type": "code",
      "source": [
        "# break\n",
        "for i in range(1,100):\n",
        "  print(\"for문 %d번 실행\" %i)\n",
        "  break\n",
        "print(\"break 빠짐\")"
      ],
      "metadata": {
        "colab": {
          "base_uri": "https://localhost:8080/"
        },
        "id": "UfoA6D2WEvn-",
        "outputId": "7c0c21be-3562-4eb6-e9fb-94d0785d0ea8"
      },
      "execution_count": null,
      "outputs": [
        {
          "output_type": "stream",
          "name": "stdout",
          "text": [
            "for문 1번 실행\n",
            "break 빠짐\n"
          ]
        }
      ]
    },
    {
      "cell_type": "code",
      "source": [
        "hap = 0\n",
        "a,b = 0,0\n",
        "while True:\n",
        "  a = int(input(\"덧셈 첫번째 수 입력: \"))\n",
        "  if a==0:\n",
        "   break\n",
        "  b = int(input(\"덧셈 두번쨰 수 입력: \"))\n",
        "  hap = a+b\n",
        "  print(\"%d + %d = %d\" %(a,b,hap))\n",
        "\n",
        "print(\"break로 탈출\")"
      ],
      "metadata": {
        "colab": {
          "base_uri": "https://localhost:8080/"
        },
        "id": "z-xlBC4yFacV",
        "outputId": "463ee096-d3ec-4ca0-9e7b-0423fbd71f62"
      },
      "execution_count": null,
      "outputs": [
        {
          "output_type": "stream",
          "name": "stdout",
          "text": [
            "덧셈 첫번째 수 입력: 0\n",
            "break로 탈출\n"
          ]
        }
      ]
    },
    {
      "cell_type": "code",
      "source": [
        "# continue\n",
        "hap,i=0,0\n",
        "for i in range(1,11):\n",
        "  if i % 2 == 0:\n",
        "    print(\"i:%d\" %i)\n",
        "    continue\n",
        "  hap += i\n",
        "\n",
        "print(\"1~10 합계(2의 배수를 제외): %d\" %hap)"
      ],
      "metadata": {
        "colab": {
          "base_uri": "https://localhost:8080/"
        },
        "id": "uhtaIeZuGXP8",
        "outputId": "56aa0e32-78bc-4241-ca4f-4eb898164e36"
      },
      "execution_count": null,
      "outputs": [
        {
          "output_type": "stream",
          "name": "stdout",
          "text": [
            "i:2\n",
            "i:4\n",
            "i:6\n",
            "i:8\n",
            "i:10\n",
            "1~10 합계(2의 배수를 제외): 25\n"
          ]
        }
      ]
    },
    {
      "cell_type": "code",
      "source": [
        "fruits = [\"사과\",\"바나나\",\"체리\"]\n",
        "for x in fruits:\n",
        "  if x == \"바나나\":\n",
        "    continue\n",
        "  print(x)"
      ],
      "metadata": {
        "colab": {
          "base_uri": "https://localhost:8080/"
        },
        "id": "hhW4NH8pIAQp",
        "outputId": "e3b84439-3842-4f98-fb8e-147aa8cde501"
      },
      "execution_count": null,
      "outputs": [
        {
          "output_type": "stream",
          "name": "stdout",
          "text": [
            "사과\n",
            "체리\n"
          ]
        }
      ]
    },
    {
      "cell_type": "code",
      "source": [
        "for x in range(6):\n",
        "  print(x)\n",
        "else:\n",
        "  print(\"끝\")"
      ],
      "metadata": {
        "colab": {
          "base_uri": "https://localhost:8080/"
        },
        "id": "grVxuqriIp7J",
        "outputId": "d6229e6e-9197-4ee6-e77a-291a948b1ffd"
      },
      "execution_count": null,
      "outputs": [
        {
          "output_type": "stream",
          "name": "stdout",
          "text": [
            "0\n",
            "1\n",
            "2\n",
            "3\n",
            "4\n",
            "5\n",
            "끝\n"
          ]
        }
      ]
    },
    {
      "cell_type": "code",
      "source": [
        "for x in range(6):\n",
        "  if x == 3: \\\n",
        "    break\n",
        "  print(x)\n",
        "else:\n",
        "  print(\"끝\")"
      ],
      "metadata": {
        "colab": {
          "base_uri": "https://localhost:8080/"
        },
        "id": "VhM2msdWJKmI",
        "outputId": "da4a5fda-82b3-4d3e-dcdb-530fc83ef286"
      },
      "execution_count": null,
      "outputs": [
        {
          "output_type": "stream",
          "name": "stdout",
          "text": [
            "0\n",
            "1\n",
            "2\n"
          ]
        }
      ]
    },
    {
      "cell_type": "code",
      "source": [
        "# for문 루프는 비워 둘수 없음\n",
        "for x in [0,1,2]:\n",
        "  pass"
      ],
      "metadata": {
        "id": "vbYLk_duKI7L"
      },
      "execution_count": null,
      "outputs": []
    },
    {
      "cell_type": "markdown",
      "source": [
        "####함수"
      ],
      "metadata": {
        "id": "S5bgQ-cnL4-j"
      }
    },
    {
      "cell_type": "code",
      "source": [
        "# 두수를 더하는 함수\n",
        "def plus(v1,v2):\n",
        "  result = 0\n",
        "  result = v1 + v2\n",
        "  return result\n",
        "\n",
        "hap = 0\n",
        "hap = plus(10,20)\n",
        "print(\"10+20 plus() 처리결과는 %d\" %hap)\n",
        "hap = plus(20,30)\n",
        "print(\"20+30 plus() 처리결과는 %d\" %hap)"
      ],
      "metadata": {
        "colab": {
          "base_uri": "https://localhost:8080/"
        },
        "id": "Ar2itwNaL6xJ",
        "outputId": "5d1c4519-cd24-4e94-a006-2bbc13cb1d84"
      },
      "execution_count": null,
      "outputs": [
        {
          "output_type": "stream",
          "name": "stdout",
          "text": [
            "10+20 plus() 처리결과는 30\n",
            "20+30 plus() 처리결과는 50\n"
          ]
        }
      ]
    },
    {
      "cell_type": "code",
      "source": [
        "# 계산기 코드\n",
        "def calc(v1,v2,op):\n",
        "  result = 0\n",
        "  if op == '+':\n",
        "    result = v1 + v2\n",
        "  elif op == '-':\n",
        "    result = v1 - v2\n",
        "  elif op == '*':\n",
        "    result = v1 * v2\n",
        "  elif op == '/':\n",
        "    result = v1 / v2\n",
        "  return result\n",
        "\n",
        "rst = 0\n",
        "var1,var2,opr = 0,0,\"\"\n",
        "\n",
        "opr = input(\"(+,-,*,/) 입력\")\n",
        "var1 = int(input(\"1번째 수 입력: \"))\n",
        "var2 = int(input(\"2번째 수 입력: \"))\n",
        "rst = calc(var1,var2,opr)\n",
        "print(\"계산기 %d %s %d = %d\" %(var1,opr,var2,rst))"
      ],
      "metadata": {
        "colab": {
          "base_uri": "https://localhost:8080/"
        },
        "id": "Bgsse0yMM7PA",
        "outputId": "ae560a86-c44a-4607-cce0-cbad2af8241c"
      },
      "execution_count": null,
      "outputs": [
        {
          "output_type": "stream",
          "name": "stdout",
          "text": [
            "(+,-,*,/) 입력/\n",
            "1번째 수 입력: 8\n",
            "2번째 수 입력: 4\n",
            "계산기 8 / 4 = 2\n"
          ]
        }
      ]
    },
    {
      "cell_type": "markdown",
      "source": [
        "# Q 0으로 나누려고 하면 메세지 출력 계산되지 않게, **제곱 연산자 추가(숫자1,연산자,숫자2) 계산기만들기"
      ],
      "metadata": {
        "id": "pPfr1_3GQBFq"
      }
    },
    {
      "cell_type": "code",
      "source": [
        "def calc(v1, v2, op):\n",
        "    if op == '+':\n",
        "        result = v1 + v2\n",
        "    elif op == '-':\n",
        "        result = v1 - v2\n",
        "    elif op == '*':\n",
        "        result = v1 * v2\n",
        "    elif op == '**':\n",
        "        result = v1 ** v2\n",
        "    elif op == '/':\n",
        "        if v2 == 0:\n",
        "            print(\"0으로는 나누어지지 않습니다\")\n",
        "            return None\n",
        "        else:\n",
        "            result = v1 / v2\n",
        "    else:\n",
        "        print(\"잘못된 연산자입니다.\")\n",
        "        return None\n",
        "    return result\n",
        "\n",
        "while True:\n",
        "    opr = input(\"(+,-,*,**,/) 입력(stop:종료): \")\n",
        "    if opr == 'stop':\n",
        "        print(\"프로그램을 종료합니다.\")\n",
        "        break\n",
        "    var1 = int(input(\"1번째 수 입력: \"))\n",
        "    var2 = int(input(\"2번째 수 입력: \"))\n",
        "    rst = calc(var1, var2, opr)\n",
        "    if rst is not None:\n",
        "        print(\"계산기 %d %s %d = %d\" % (var1, opr, var2, rst))\n",
        "    else:\n",
        "        continue"
      ],
      "metadata": {
        "colab": {
          "base_uri": "https://localhost:8080/"
        },
        "id": "TIJeJUJHxxHV",
        "outputId": "1eacbe97-2178-4f2b-e530-a97606d15c61"
      },
      "execution_count": null,
      "outputs": [
        {
          "output_type": "stream",
          "name": "stdout",
          "text": [
            "(+,-,*,**,/) 입력(stop:종료): +\n",
            "1번째 수 입력: 2\n",
            "2번째 수 입력: 3\n",
            "계산기 2 + 3 = 5\n",
            "(+,-,*,**,/) 입력(stop:종료): stop\n",
            "프로그램을 종료합니다.\n"
          ]
        }
      ]
    },
    {
      "cell_type": "code",
      "source": [
        "# 전역 변수와 지역변수\n",
        "def func1():\n",
        "  a = 10\n",
        "  print(\"func1()에서 값 %d\" %a)\n",
        "\n",
        "def func2():\n",
        "  print(\"func1()에서 값 %d\" %a)\n",
        "\n",
        "a= 20\n",
        "\n",
        "func1()\n",
        "func2()"
      ],
      "metadata": {
        "colab": {
          "base_uri": "https://localhost:8080/"
        },
        "id": "DUnFNCvIQ-2S",
        "outputId": "6e213834-0dfe-4a7d-8cbd-00b1c7af43a7"
      },
      "execution_count": null,
      "outputs": [
        {
          "output_type": "stream",
          "name": "stdout",
          "text": [
            "func1()에서 값 10\n",
            "func1()에서 값 20\n"
          ]
        }
      ]
    },
    {
      "cell_type": "markdown",
      "source": [
        "# Ch5 파일 처리\n",
        "\"r\" read\n",
        "\"a\" append\n",
        "\"w\" write\n",
        "\"x\" create\n",
        "\"t\" text\n",
        "\"b\" binary"
      ],
      "metadata": {
        "id": "6cDMaxrNv3kl"
      }
    },
    {
      "cell_type": "code",
      "source": [
        "# w 파일 쓰기 (덮어쓰기 가능)\n",
        "from google.colab import files\n",
        "\n",
        "f = open(\"a.txt\",'w')\n",
        "f.write(\"12345\")\n",
        "f.close()\n",
        "\n",
        "f = open(\"a.txt\",'w')\n",
        "f.write(\"abcde\")\n",
        "f.close()\n",
        "\n",
        "files.download('a.txt')"
      ],
      "metadata": {
        "colab": {
          "base_uri": "https://localhost:8080/",
          "height": 17
        },
        "id": "enZpWTP3wO_P",
        "outputId": "82ce0e72-6533-4adf-c309-0ae2de3d66e3"
      },
      "execution_count": null,
      "outputs": [
        {
          "output_type": "display_data",
          "data": {
            "text/plain": [
              "<IPython.core.display.Javascript object>"
            ],
            "application/javascript": [
              "\n",
              "    async function download(id, filename, size) {\n",
              "      if (!google.colab.kernel.accessAllowed) {\n",
              "        return;\n",
              "      }\n",
              "      const div = document.createElement('div');\n",
              "      const label = document.createElement('label');\n",
              "      label.textContent = `Downloading \"${filename}\": `;\n",
              "      div.appendChild(label);\n",
              "      const progress = document.createElement('progress');\n",
              "      progress.max = size;\n",
              "      div.appendChild(progress);\n",
              "      document.body.appendChild(div);\n",
              "\n",
              "      const buffers = [];\n",
              "      let downloaded = 0;\n",
              "\n",
              "      const channel = await google.colab.kernel.comms.open(id);\n",
              "      // Send a message to notify the kernel that we're ready.\n",
              "      channel.send({})\n",
              "\n",
              "      for await (const message of channel.messages) {\n",
              "        // Send a message to notify the kernel that we're ready.\n",
              "        channel.send({})\n",
              "        if (message.buffers) {\n",
              "          for (const buffer of message.buffers) {\n",
              "            buffers.push(buffer);\n",
              "            downloaded += buffer.byteLength;\n",
              "            progress.value = downloaded;\n",
              "          }\n",
              "        }\n",
              "      }\n",
              "      const blob = new Blob(buffers, {type: 'application/binary'});\n",
              "      const a = document.createElement('a');\n",
              "      a.href = window.URL.createObjectURL(blob);\n",
              "      a.download = filename;\n",
              "      div.appendChild(a);\n",
              "      a.click();\n",
              "      div.remove();\n",
              "    }\n",
              "  "
            ]
          },
          "metadata": {}
        },
        {
          "output_type": "display_data",
          "data": {
            "text/plain": [
              "<IPython.core.display.Javascript object>"
            ],
            "application/javascript": [
              "download(\"download_a9e9a2f4-f589-48c5-9a0c-40b96432fec5\", \"a.txt\", 5)"
            ]
          },
          "metadata": {}
        }
      ]
    },
    {
      "cell_type": "code",
      "source": [
        "# a 추가하기\n",
        "from google.colab import files\n",
        "\n",
        "f = open(\"a.txt\",'w')\n",
        "f.write(\"12345\")\n",
        "f.close()\n",
        "\n",
        "f = open(\"a.txt\",'a')\n",
        "f.write(\"6789\")\n",
        "f.close()\n",
        "\n",
        "files.download('a.txt')"
      ],
      "metadata": {
        "colab": {
          "base_uri": "https://localhost:8080/",
          "height": 17
        },
        "id": "nafYKgvix_Te",
        "outputId": "5b6ed9d0-b38d-44aa-8059-1211319d3bea"
      },
      "execution_count": null,
      "outputs": [
        {
          "output_type": "display_data",
          "data": {
            "text/plain": [
              "<IPython.core.display.Javascript object>"
            ],
            "application/javascript": [
              "\n",
              "    async function download(id, filename, size) {\n",
              "      if (!google.colab.kernel.accessAllowed) {\n",
              "        return;\n",
              "      }\n",
              "      const div = document.createElement('div');\n",
              "      const label = document.createElement('label');\n",
              "      label.textContent = `Downloading \"${filename}\": `;\n",
              "      div.appendChild(label);\n",
              "      const progress = document.createElement('progress');\n",
              "      progress.max = size;\n",
              "      div.appendChild(progress);\n",
              "      document.body.appendChild(div);\n",
              "\n",
              "      const buffers = [];\n",
              "      let downloaded = 0;\n",
              "\n",
              "      const channel = await google.colab.kernel.comms.open(id);\n",
              "      // Send a message to notify the kernel that we're ready.\n",
              "      channel.send({})\n",
              "\n",
              "      for await (const message of channel.messages) {\n",
              "        // Send a message to notify the kernel that we're ready.\n",
              "        channel.send({})\n",
              "        if (message.buffers) {\n",
              "          for (const buffer of message.buffers) {\n",
              "            buffers.push(buffer);\n",
              "            downloaded += buffer.byteLength;\n",
              "            progress.value = downloaded;\n",
              "          }\n",
              "        }\n",
              "      }\n",
              "      const blob = new Blob(buffers, {type: 'application/binary'});\n",
              "      const a = document.createElement('a');\n",
              "      a.href = window.URL.createObjectURL(blob);\n",
              "      a.download = filename;\n",
              "      div.appendChild(a);\n",
              "      a.click();\n",
              "      div.remove();\n",
              "    }\n",
              "  "
            ]
          },
          "metadata": {}
        },
        {
          "output_type": "display_data",
          "data": {
            "text/plain": [
              "<IPython.core.display.Javascript object>"
            ],
            "application/javascript": [
              "download(\"download_22875db3-f6a5-436f-bd4f-5cdb82e3a1fe\", \"a.txt\", 9)"
            ]
          },
          "metadata": {}
        }
      ]
    },
    {
      "cell_type": "code",
      "source": [
        "# x 생성하기\n",
        "from google.colab import files\n",
        "\n",
        "f = open(\"b.txt\",'x')\n",
        "f.write(\"12345\")\n",
        "f.close()\n",
        "\n",
        "files.download('b.txt')"
      ],
      "metadata": {
        "colab": {
          "base_uri": "https://localhost:8080/",
          "height": 17
        },
        "id": "12FtWLS2yset",
        "outputId": "f00e9c8b-71b4-410b-f56d-93d85d7ad4f6"
      },
      "execution_count": null,
      "outputs": [
        {
          "output_type": "display_data",
          "data": {
            "text/plain": [
              "<IPython.core.display.Javascript object>"
            ],
            "application/javascript": [
              "\n",
              "    async function download(id, filename, size) {\n",
              "      if (!google.colab.kernel.accessAllowed) {\n",
              "        return;\n",
              "      }\n",
              "      const div = document.createElement('div');\n",
              "      const label = document.createElement('label');\n",
              "      label.textContent = `Downloading \"${filename}\": `;\n",
              "      div.appendChild(label);\n",
              "      const progress = document.createElement('progress');\n",
              "      progress.max = size;\n",
              "      div.appendChild(progress);\n",
              "      document.body.appendChild(div);\n",
              "\n",
              "      const buffers = [];\n",
              "      let downloaded = 0;\n",
              "\n",
              "      const channel = await google.colab.kernel.comms.open(id);\n",
              "      // Send a message to notify the kernel that we're ready.\n",
              "      channel.send({})\n",
              "\n",
              "      for await (const message of channel.messages) {\n",
              "        // Send a message to notify the kernel that we're ready.\n",
              "        channel.send({})\n",
              "        if (message.buffers) {\n",
              "          for (const buffer of message.buffers) {\n",
              "            buffers.push(buffer);\n",
              "            downloaded += buffer.byteLength;\n",
              "            progress.value = downloaded;\n",
              "          }\n",
              "        }\n",
              "      }\n",
              "      const blob = new Blob(buffers, {type: 'application/binary'});\n",
              "      const a = document.createElement('a');\n",
              "      a.href = window.URL.createObjectURL(blob);\n",
              "      a.download = filename;\n",
              "      div.appendChild(a);\n",
              "      a.click();\n",
              "      div.remove();\n",
              "    }\n",
              "  "
            ]
          },
          "metadata": {}
        },
        {
          "output_type": "display_data",
          "data": {
            "text/plain": [
              "<IPython.core.display.Javascript object>"
            ],
            "application/javascript": [
              "download(\"download_98ef4e7d-8c28-4e69-b98b-c6fa41741c61\", \"b.txt\", 5)"
            ]
          },
          "metadata": {}
        }
      ]
    },
    {
      "cell_type": "code",
      "source": [
        "# x 생성된 것이 없을 때만 새로 생성 가능\n",
        "from google.colab import files\n",
        "\n",
        "f = open(\"b.txt\",'x')\n",
        "f.write(\"12345\")\n",
        "f.close()\n",
        "\n",
        "files.download('b.txt')"
      ],
      "metadata": {
        "colab": {
          "base_uri": "https://localhost:8080/",
          "height": 248
        },
        "id": "77MiarsfzDTH",
        "outputId": "5992ca3c-de1a-4b98-ea9f-843173e4c78c"
      },
      "execution_count": null,
      "outputs": [
        {
          "output_type": "error",
          "ename": "FileExistsError",
          "evalue": "ignored",
          "traceback": [
            "\u001b[0;31m---------------------------------------------------------------------------\u001b[0m",
            "\u001b[0;31mFileExistsError\u001b[0m                           Traceback (most recent call last)",
            "\u001b[0;32m<ipython-input-13-c3a724a779fc>\u001b[0m in \u001b[0;36m<cell line: 4>\u001b[0;34m()\u001b[0m\n\u001b[1;32m      2\u001b[0m \u001b[0;32mfrom\u001b[0m \u001b[0mgoogle\u001b[0m\u001b[0;34m.\u001b[0m\u001b[0mcolab\u001b[0m \u001b[0;32mimport\u001b[0m \u001b[0mfiles\u001b[0m\u001b[0;34m\u001b[0m\u001b[0;34m\u001b[0m\u001b[0m\n\u001b[1;32m      3\u001b[0m \u001b[0;34m\u001b[0m\u001b[0m\n\u001b[0;32m----> 4\u001b[0;31m \u001b[0mf\u001b[0m \u001b[0;34m=\u001b[0m \u001b[0mopen\u001b[0m\u001b[0;34m(\u001b[0m\u001b[0;34m\"b.txt\"\u001b[0m\u001b[0;34m,\u001b[0m\u001b[0;34m'x'\u001b[0m\u001b[0;34m)\u001b[0m\u001b[0;34m\u001b[0m\u001b[0;34m\u001b[0m\u001b[0m\n\u001b[0m\u001b[1;32m      5\u001b[0m \u001b[0mf\u001b[0m\u001b[0;34m.\u001b[0m\u001b[0mwrite\u001b[0m\u001b[0;34m(\u001b[0m\u001b[0;34m\"12345\"\u001b[0m\u001b[0;34m)\u001b[0m\u001b[0;34m\u001b[0m\u001b[0;34m\u001b[0m\u001b[0m\n\u001b[1;32m      6\u001b[0m \u001b[0mf\u001b[0m\u001b[0;34m.\u001b[0m\u001b[0mclose\u001b[0m\u001b[0;34m(\u001b[0m\u001b[0;34m)\u001b[0m\u001b[0;34m\u001b[0m\u001b[0;34m\u001b[0m\u001b[0m\n",
            "\u001b[0;31mFileExistsError\u001b[0m: [Errno 17] File exists: 'b.txt'"
          ]
        }
      ]
    },
    {
      "cell_type": "code",
      "source": [
        "# 여러줄 내용 입력\n",
        "from google.colab import files\n",
        "f = open(\"a.txt\",'w')\n",
        "#f.write(\"12345678\\n987654321\\nabcde\")\n",
        "f.write(\"\"\"1234\n",
        "4567\n",
        "890\"\"\")\n",
        "f.close()\n",
        "\n",
        "files.download('a.txt')"
      ],
      "metadata": {
        "colab": {
          "base_uri": "https://localhost:8080/",
          "height": 17
        },
        "id": "l_d-PIOgzeT-",
        "outputId": "afee2c99-874e-41c0-aea9-88c579640f63"
      },
      "execution_count": null,
      "outputs": [
        {
          "output_type": "display_data",
          "data": {
            "text/plain": [
              "<IPython.core.display.Javascript object>"
            ],
            "application/javascript": [
              "\n",
              "    async function download(id, filename, size) {\n",
              "      if (!google.colab.kernel.accessAllowed) {\n",
              "        return;\n",
              "      }\n",
              "      const div = document.createElement('div');\n",
              "      const label = document.createElement('label');\n",
              "      label.textContent = `Downloading \"${filename}\": `;\n",
              "      div.appendChild(label);\n",
              "      const progress = document.createElement('progress');\n",
              "      progress.max = size;\n",
              "      div.appendChild(progress);\n",
              "      document.body.appendChild(div);\n",
              "\n",
              "      const buffers = [];\n",
              "      let downloaded = 0;\n",
              "\n",
              "      const channel = await google.colab.kernel.comms.open(id);\n",
              "      // Send a message to notify the kernel that we're ready.\n",
              "      channel.send({})\n",
              "\n",
              "      for await (const message of channel.messages) {\n",
              "        // Send a message to notify the kernel that we're ready.\n",
              "        channel.send({})\n",
              "        if (message.buffers) {\n",
              "          for (const buffer of message.buffers) {\n",
              "            buffers.push(buffer);\n",
              "            downloaded += buffer.byteLength;\n",
              "            progress.value = downloaded;\n",
              "          }\n",
              "        }\n",
              "      }\n",
              "      const blob = new Blob(buffers, {type: 'application/binary'});\n",
              "      const a = document.createElement('a');\n",
              "      a.href = window.URL.createObjectURL(blob);\n",
              "      a.download = filename;\n",
              "      div.appendChild(a);\n",
              "      a.click();\n",
              "      div.remove();\n",
              "    }\n",
              "  "
            ]
          },
          "metadata": {}
        },
        {
          "output_type": "display_data",
          "data": {
            "text/plain": [
              "<IPython.core.display.Javascript object>"
            ],
            "application/javascript": [
              "download(\"download_a532c257-26fc-4e91-9836-ae2df397d7a9\", \"a.txt\", 13)"
            ]
          },
          "metadata": {}
        }
      ]
    },
    {
      "cell_type": "code",
      "source": [
        "# 리스트, 튜플 내용을 입력\n",
        "from google.colab import files\n",
        "\n",
        "t = (\"1\",\"2\",\"3\",\"4\",\"\\n\")\n",
        "l = [\"a\",\"b\",\"c\",\"d\"]\n",
        "f = open(\"a.txt\",'w')\n",
        "f.writelines(t)\n",
        "f.writelines(l)\n",
        "f.close()\n",
        "\n",
        "files.download('a.txt')"
      ],
      "metadata": {
        "colab": {
          "base_uri": "https://localhost:8080/",
          "height": 17
        },
        "id": "Xx1jB-mp0d42",
        "outputId": "e3f9bd64-5e79-45bc-f51c-735179a2c80e"
      },
      "execution_count": null,
      "outputs": [
        {
          "output_type": "display_data",
          "data": {
            "text/plain": [
              "<IPython.core.display.Javascript object>"
            ],
            "application/javascript": [
              "\n",
              "    async function download(id, filename, size) {\n",
              "      if (!google.colab.kernel.accessAllowed) {\n",
              "        return;\n",
              "      }\n",
              "      const div = document.createElement('div');\n",
              "      const label = document.createElement('label');\n",
              "      label.textContent = `Downloading \"${filename}\": `;\n",
              "      div.appendChild(label);\n",
              "      const progress = document.createElement('progress');\n",
              "      progress.max = size;\n",
              "      div.appendChild(progress);\n",
              "      document.body.appendChild(div);\n",
              "\n",
              "      const buffers = [];\n",
              "      let downloaded = 0;\n",
              "\n",
              "      const channel = await google.colab.kernel.comms.open(id);\n",
              "      // Send a message to notify the kernel that we're ready.\n",
              "      channel.send({})\n",
              "\n",
              "      for await (const message of channel.messages) {\n",
              "        // Send a message to notify the kernel that we're ready.\n",
              "        channel.send({})\n",
              "        if (message.buffers) {\n",
              "          for (const buffer of message.buffers) {\n",
              "            buffers.push(buffer);\n",
              "            downloaded += buffer.byteLength;\n",
              "            progress.value = downloaded;\n",
              "          }\n",
              "        }\n",
              "      }\n",
              "      const blob = new Blob(buffers, {type: 'application/binary'});\n",
              "      const a = document.createElement('a');\n",
              "      a.href = window.URL.createObjectURL(blob);\n",
              "      a.download = filename;\n",
              "      div.appendChild(a);\n",
              "      a.click();\n",
              "      div.remove();\n",
              "    }\n",
              "  "
            ]
          },
          "metadata": {}
        },
        {
          "output_type": "display_data",
          "data": {
            "text/plain": [
              "<IPython.core.display.Javascript object>"
            ],
            "application/javascript": [
              "download(\"download_d7569ca8-197d-422e-82d1-cb805c21fbd8\", \"a.txt\", 9)"
            ]
          },
          "metadata": {}
        }
      ]
    },
    {
      "cell_type": "code",
      "source": [
        "# read 모드로 파일 열기 (파일이 없으면 오류발생)\n",
        "from google.colab import files\n",
        "\n",
        "f = open(\"a.txt\",'w')\n",
        "f.write(\"1234\\n5678\")\n",
        "f.close()\n",
        "\n",
        "f = open(\"a.txt\",'r')\n",
        "print(f.read())\n",
        "f.close()"
      ],
      "metadata": {
        "colab": {
          "base_uri": "https://localhost:8080/"
        },
        "id": "ylXoPiFx1xOI",
        "outputId": "e19f5db4-e3a5-4497-e150-44411685aa91"
      },
      "execution_count": null,
      "outputs": [
        {
          "output_type": "stream",
          "name": "stdout",
          "text": [
            "1234\n",
            "5678\n"
          ]
        }
      ]
    },
    {
      "cell_type": "code",
      "source": [
        "# readline() 함수 : 한 줄씩 가져옴\n",
        "from google.colab import files\n",
        "\n",
        "f = open(\"a.txt\",'r')\n",
        "print(f.readline())\n",
        "print(f.readline())\n",
        "f.close()"
      ],
      "metadata": {
        "id": "r401puS52aIo",
        "colab": {
          "base_uri": "https://localhost:8080/",
          "height": 248
        },
        "outputId": "9de76e57-f947-43e5-8121-bed72f56dbc4"
      },
      "execution_count": null,
      "outputs": [
        {
          "output_type": "error",
          "ename": "FileNotFoundError",
          "evalue": "ignored",
          "traceback": [
            "\u001b[0;31m---------------------------------------------------------------------------\u001b[0m",
            "\u001b[0;31mFileNotFoundError\u001b[0m                         Traceback (most recent call last)",
            "\u001b[0;32m<ipython-input-37-a69a02e7509b>\u001b[0m in \u001b[0;36m<cell line: 4>\u001b[0;34m()\u001b[0m\n\u001b[1;32m      2\u001b[0m \u001b[0;32mfrom\u001b[0m \u001b[0mgoogle\u001b[0m\u001b[0;34m.\u001b[0m\u001b[0mcolab\u001b[0m \u001b[0;32mimport\u001b[0m \u001b[0mfiles\u001b[0m\u001b[0;34m\u001b[0m\u001b[0;34m\u001b[0m\u001b[0m\n\u001b[1;32m      3\u001b[0m \u001b[0;34m\u001b[0m\u001b[0m\n\u001b[0;32m----> 4\u001b[0;31m \u001b[0mf\u001b[0m \u001b[0;34m=\u001b[0m \u001b[0mopen\u001b[0m\u001b[0;34m(\u001b[0m\u001b[0;34m\"a.txt\"\u001b[0m\u001b[0;34m,\u001b[0m\u001b[0;34m'r'\u001b[0m\u001b[0;34m)\u001b[0m\u001b[0;34m\u001b[0m\u001b[0;34m\u001b[0m\u001b[0m\n\u001b[0m\u001b[1;32m      5\u001b[0m \u001b[0mprint\u001b[0m\u001b[0;34m(\u001b[0m\u001b[0mf\u001b[0m\u001b[0;34m.\u001b[0m\u001b[0mreadline\u001b[0m\u001b[0;34m(\u001b[0m\u001b[0;34m)\u001b[0m\u001b[0;34m)\u001b[0m\u001b[0;34m\u001b[0m\u001b[0;34m\u001b[0m\u001b[0m\n\u001b[1;32m      6\u001b[0m \u001b[0mprint\u001b[0m\u001b[0;34m(\u001b[0m\u001b[0mf\u001b[0m\u001b[0;34m.\u001b[0m\u001b[0mreadline\u001b[0m\u001b[0;34m(\u001b[0m\u001b[0;34m)\u001b[0m\u001b[0;34m)\u001b[0m\u001b[0;34m\u001b[0m\u001b[0;34m\u001b[0m\u001b[0m\n",
            "\u001b[0;31mFileNotFoundError\u001b[0m: [Errno 2] No such file or directory: 'a.txt'"
          ]
        }
      ]
    },
    {
      "cell_type": "code",
      "source": [
        "from google.colab import files\n",
        "\n",
        "import os\n",
        "if os.path.exists(\"a.txt\"):\n",
        "  os.remove(\"a.txt\") #os.rmdir(\"folder\")\n",
        "else:\n",
        "  print(\"파일이 없음\")"
      ],
      "metadata": {
        "id": "4pN9UGgX8tP6",
        "colab": {
          "base_uri": "https://localhost:8080/"
        },
        "outputId": "16a42210-d0ba-4a1f-aa45-b85fbe2c20f0"
      },
      "execution_count": null,
      "outputs": [
        {
          "output_type": "stream",
          "name": "stdout",
          "text": [
            "파일이 없음\n"
          ]
        }
      ]
    },
    {
      "cell_type": "code",
      "source": [
        "from google.colab import files\n",
        "import os\n",
        "\n",
        "print(os.listdir('.'))\n",
        "os.rename(\"b.txt\",\"a.txt\") #file 이름 변경\n",
        "print(os.listdir('.'))"
      ],
      "metadata": {
        "colab": {
          "base_uri": "https://localhost:8080/",
          "height": 248
        },
        "id": "uqrEynMF9uFx",
        "outputId": "536d7ce3-1e04-4636-9036-7df9577e5e71"
      },
      "execution_count": null,
      "outputs": [
        {
          "output_type": "stream",
          "name": "stdout",
          "text": [
            "['.config', 'sample_data']\n"
          ]
        },
        {
          "output_type": "error",
          "ename": "FileNotFoundError",
          "evalue": "ignored",
          "traceback": [
            "\u001b[0;31m---------------------------------------------------------------------------\u001b[0m",
            "\u001b[0;31mFileNotFoundError\u001b[0m                         Traceback (most recent call last)",
            "\u001b[0;32m<ipython-input-1-553e13e1500d>\u001b[0m in \u001b[0;36m<cell line: 5>\u001b[0;34m()\u001b[0m\n\u001b[1;32m      3\u001b[0m \u001b[0;34m\u001b[0m\u001b[0m\n\u001b[1;32m      4\u001b[0m \u001b[0mprint\u001b[0m\u001b[0;34m(\u001b[0m\u001b[0mos\u001b[0m\u001b[0;34m.\u001b[0m\u001b[0mlistdir\u001b[0m\u001b[0;34m(\u001b[0m\u001b[0;34m'.'\u001b[0m\u001b[0;34m)\u001b[0m\u001b[0;34m)\u001b[0m\u001b[0;34m\u001b[0m\u001b[0;34m\u001b[0m\u001b[0m\n\u001b[0;32m----> 5\u001b[0;31m \u001b[0mos\u001b[0m\u001b[0;34m.\u001b[0m\u001b[0mrename\u001b[0m\u001b[0;34m(\u001b[0m\u001b[0;34m\"b.txt\"\u001b[0m\u001b[0;34m,\u001b[0m\u001b[0;34m\"a.txt\"\u001b[0m\u001b[0;34m)\u001b[0m \u001b[0;31m#file 이름 변경\u001b[0m\u001b[0;34m\u001b[0m\u001b[0;34m\u001b[0m\u001b[0m\n\u001b[0m\u001b[1;32m      6\u001b[0m \u001b[0mprint\u001b[0m\u001b[0;34m(\u001b[0m\u001b[0mos\u001b[0m\u001b[0;34m.\u001b[0m\u001b[0mlistdir\u001b[0m\u001b[0;34m(\u001b[0m\u001b[0;34m'.'\u001b[0m\u001b[0;34m)\u001b[0m\u001b[0;34m)\u001b[0m\u001b[0;34m\u001b[0m\u001b[0;34m\u001b[0m\u001b[0m\n",
            "\u001b[0;31mFileNotFoundError\u001b[0m: [Errno 2] No such file or directory: 'b.txt' -> 'a.txt'"
          ]
        }
      ]
    },
    {
      "cell_type": "code",
      "source": [
        "from google.colab import files\n",
        "import os\n",
        "\n",
        "# file 파일 존재 유무 확인\n",
        "print(os.path.exists('a.txt'))\n",
        "print(os.path.exists('b.txt'))"
      ],
      "metadata": {
        "colab": {
          "base_uri": "https://localhost:8080/"
        },
        "id": "G_zF34Ci-zvJ",
        "outputId": "af397ba3-484e-42d7-bc92-f8a8fd7fbf85"
      },
      "execution_count": null,
      "outputs": [
        {
          "output_type": "stream",
          "name": "stdout",
          "text": [
            "False\n",
            "False\n"
          ]
        }
      ]
    },
    {
      "cell_type": "code",
      "source": [
        "# 구구단 파일로 저장\n",
        "from google.colab import files\n",
        "import sys\n",
        "\n",
        "f = open(\"a.txt\",'w', encoding='utf8') # eu\n",
        "sys.stdout = f \n",
        "for i in range(2,10):\n",
        "  for j in range(1,10):\n",
        "    print(\"{} x {} = {}\".format(i,j,i*j))\n",
        "  print()\n",
        "f.close()\n",
        "\n",
        "files.download('a.txt')"
      ],
      "metadata": {
        "id": "sItPeR4ZBrHc"
      },
      "execution_count": null,
      "outputs": []
    },
    {
      "cell_type": "code",
      "source": [
        "from google.colab import files\n",
        "import sys\n",
        "\n",
        "f = open(\"c.txt\",'w', encoding='utf8')\n",
        "f.write(\"동해물과 백두산이 마르고 닳도록\\n안녕하세요\\nHello World!\")\n",
        "f.close()\n",
        "\n",
        "f = open(\"c.txt\",'r', encoding='utf8')\n",
        "lines = f.readlines()\n",
        "for line in lines:\n",
        "  print(line, end='')\n",
        "f.close\n",
        "\n",
        "files.download('c.txt')"
      ],
      "metadata": {
        "colab": {
          "base_uri": "https://localhost:8080/",
          "height": 72
        },
        "id": "tKG9Akz9DecC",
        "outputId": "4d367bd5-def4-4593-a799-6f1c76694122"
      },
      "execution_count": null,
      "outputs": [
        {
          "output_type": "stream",
          "name": "stdout",
          "text": [
            "동해물과 백두산이 마르고 닳도록\n",
            "안녕하세요\n",
            "Hello World!"
          ]
        },
        {
          "output_type": "display_data",
          "data": {
            "text/plain": [
              "<IPython.core.display.Javascript object>"
            ],
            "application/javascript": [
              "\n",
              "    async function download(id, filename, size) {\n",
              "      if (!google.colab.kernel.accessAllowed) {\n",
              "        return;\n",
              "      }\n",
              "      const div = document.createElement('div');\n",
              "      const label = document.createElement('label');\n",
              "      label.textContent = `Downloading \"${filename}\": `;\n",
              "      div.appendChild(label);\n",
              "      const progress = document.createElement('progress');\n",
              "      progress.max = size;\n",
              "      div.appendChild(progress);\n",
              "      document.body.appendChild(div);\n",
              "\n",
              "      const buffers = [];\n",
              "      let downloaded = 0;\n",
              "\n",
              "      const channel = await google.colab.kernel.comms.open(id);\n",
              "      // Send a message to notify the kernel that we're ready.\n",
              "      channel.send({})\n",
              "\n",
              "      for await (const message of channel.messages) {\n",
              "        // Send a message to notify the kernel that we're ready.\n",
              "        channel.send({})\n",
              "        if (message.buffers) {\n",
              "          for (const buffer of message.buffers) {\n",
              "            buffers.push(buffer);\n",
              "            downloaded += buffer.byteLength;\n",
              "            progress.value = downloaded;\n",
              "          }\n",
              "        }\n",
              "      }\n",
              "      const blob = new Blob(buffers, {type: 'application/binary'});\n",
              "      const a = document.createElement('a');\n",
              "      a.href = window.URL.createObjectURL(blob);\n",
              "      a.download = filename;\n",
              "      div.appendChild(a);\n",
              "      a.click();\n",
              "      div.remove();\n",
              "    }\n",
              "  "
            ]
          },
          "metadata": {}
        },
        {
          "output_type": "display_data",
          "data": {
            "text/plain": [
              "<IPython.core.display.Javascript object>"
            ],
            "application/javascript": [
              "download(\"download_27a4e93e-260c-49bd-9690-189f515fa6b5\", \"c.txt\", 74)"
            ]
          },
          "metadata": {}
        }
      ]
    }
  ]
}