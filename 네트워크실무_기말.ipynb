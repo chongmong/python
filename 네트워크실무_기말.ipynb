{
  "nbformat": 4,
  "nbformat_minor": 0,
  "metadata": {
    "colab": {
      "provenance": [],
      "authorship_tag": "ABX9TyN6dXfIrh4uVwkNeWryaX+d",
      "include_colab_link": true
    },
    "kernelspec": {
      "name": "python3",
      "display_name": "Python 3"
    },
    "language_info": {
      "name": "python"
    }
  },
  "cells": [
    {
      "cell_type": "markdown",
      "metadata": {
        "id": "view-in-github",
        "colab_type": "text"
      },
      "source": [
        "<a href=\"https://colab.research.google.com/github/chongmong/python/blob/main/%EB%84%A4%ED%8A%B8%EC%9B%8C%ED%81%AC%EC%8B%A4%EB%AC%B4_%EA%B8%B0%EB%A7%90.ipynb\" target=\"_parent\"><img src=\"https://colab.research.google.com/assets/colab-badge.svg\" alt=\"Open In Colab\"/></a>"
      ]
    },
    {
      "cell_type": "markdown",
      "source": [
        "#아파트 매매 실거래 현황"
      ],
      "metadata": {
        "id": "L8ahlgR59Zy0"
      }
    },
    {
      "cell_type": "code",
      "source": [
        "# 나눔 고딕 설치\n",
        "!sudo apt-get install -y fonts-nanum\n",
        "!sudo fc-cache -fv\n",
        "!rm ~/.cache/matplotlib -rf"
      ],
      "metadata": {
        "colab": {
          "base_uri": "https://localhost:8080/"
        },
        "id": "fHuV6rca-n15",
        "outputId": "44e64d50-6053-4ab7-ed1c-57056debadfb"
      },
      "execution_count": null,
      "outputs": [
        {
          "output_type": "stream",
          "name": "stdout",
          "text": [
            "Reading package lists... Done\n",
            "Building dependency tree       \n",
            "Reading state information... Done\n",
            "fonts-nanum is already the newest version (20180306-3).\n",
            "0 upgraded, 0 newly installed, 0 to remove and 34 not upgraded.\n",
            "/usr/share/fonts: caching, new cache contents: 0 fonts, 1 dirs\n",
            "/usr/share/fonts/truetype: caching, new cache contents: 0 fonts, 3 dirs\n",
            "/usr/share/fonts/truetype/humor-sans: caching, new cache contents: 1 fonts, 0 dirs\n",
            "/usr/share/fonts/truetype/liberation: caching, new cache contents: 16 fonts, 0 dirs\n",
            "/usr/share/fonts/truetype/nanum: caching, new cache contents: 10 fonts, 0 dirs\n",
            "/usr/local/share/fonts: caching, new cache contents: 0 fonts, 0 dirs\n",
            "/root/.local/share/fonts: skipping, no such directory\n",
            "/root/.fonts: skipping, no such directory\n",
            "/usr/share/fonts/truetype: skipping, looped directory detected\n",
            "/usr/share/fonts/truetype/humor-sans: skipping, looped directory detected\n",
            "/usr/share/fonts/truetype/liberation: skipping, looped directory detected\n",
            "/usr/share/fonts/truetype/nanum: skipping, looped directory detected\n",
            "/var/cache/fontconfig: cleaning cache directory\n",
            "/root/.cache/fontconfig: not cleaning non-existent cache directory\n",
            "/root/.fontconfig: not cleaning non-existent cache directory\n",
            "fc-cache: succeeded\n"
          ]
        }
      ]
    },
    {
      "cell_type": "code",
      "source": [
        "# 데이터 수집\n",
        "import urllib.request\n",
        "from bs4 import BeautifulSoup\n",
        "\n",
        "data = 202212\n",
        "gu_code = 41281\n",
        "\n",
        "service_key = '8ii22PTHYjv2akWxcIrZA7zcHXFyTrWq153f7OQcBH%2BKEa6hTsH5Kq5Tx2BpmBwHQN%2BUnYqVpfcG6%2ByWkMHfSQ%3D%3D'\n",
        "\n",
        "url = f'http://openapi.molit.go.kr:8081/OpenAPI_ToolInstallPackage/service/rest/RTMSOBJSvc/getRTMSDataSvcAptTrade?serviceKey={service_key}&LAWD_CD={gu_code}&DEAL_YMD={data}'\n",
        "\n",
        "res = urllib.request.urlopen(url)\n",
        "zero = BeautifulSoup(res, 'lxml-xml')\n",
        "fm = zero.find_all('item')\n",
        "\n",
        "#print(fm)\n"
      ],
      "metadata": {
        "id": "3bkNT5oe96vs"
      },
      "execution_count": null,
      "outputs": []
    },
    {
      "cell_type": "code",
      "source": [
        "# 데이터 정리\n",
        "sepertay = []  #1\n",
        "\n",
        "for i in range(len(fm)):  \n",
        "    price = fm[i].거래금액.string.strip()  \n",
        "    rent_fee = fm[i].거래유형.string.strip()\n",
        "    built_yr = fm[i].건축년도.string.strip()\n",
        "    nuem_yr = fm[i].년.string.strip()\n",
        "    dong_name = fm[i].법정동.string.strip()\n",
        "    apt_name = fm[i].아파트.string.strip()\n",
        "    month_tm = fm[i].월.string.strip()\n",
        "    day_tm = fm[i].일.string.strip()\n",
        "    size = fm[i].전용면적.string.strip()\n",
        "    spot = fm[i].중개사소재지.string.strip()\n",
        "    large = fm[i].지번.string.strip()\n",
        "    gu_code = fm[i].지역코드.string.strip()\n",
        "    floor_code = fm[i].층.string.strip()\n",
        "    \n",
        "    data = [price, rent_fee, built_yr, dong_name, apt_name, size, spot, gu_code]  \n",
        "    sepertay.append(data)  \n",
        "\n",
        "#print(sepertay)"
      ],
      "metadata": {
        "id": "UcobubQG-EMd"
      },
      "execution_count": null,
      "outputs": []
    },
    {
      "cell_type": "code",
      "source": [
        "# 데이터프레임 생성\n",
        "import pandas as pd\n",
        "df = pd.DataFrame(sepertay, columns=['price', 'rent_fee', 'built_yr', 'dong_name', 'apt_name',\n",
        "                                  'size', 'spot', 'gu_code'])\n",
        "\n",
        "df"
      ],
      "metadata": {
        "id": "Bnh2O6mM-Ipe",
        "colab": {
          "base_uri": "https://localhost:8080/",
          "height": 423
        },
        "outputId": "9373e2b2-3e7e-4573-e11d-a4d82935e761"
      },
      "execution_count": null,
      "outputs": [
        {
          "output_type": "execute_result",
          "data": {
            "text/plain": [
              "      price rent_fee built_yr dong_name         apt_name      size  \\\n",
              "0    22,000     중개거래     2003       주교동          (608-3)     58.46   \n",
              "1    11,000      직거래     1985       주교동        우진(569-9)      55.8   \n",
              "2    48,000      직거래     2022       주교동          경원아인스타워     74.62   \n",
              "3    28,500     중개거래     1999       주교동               서초     84.96   \n",
              "4    26,000     중개거래     2017       주교동           스카이팰리스     69.93   \n",
              "..      ...      ...      ...       ...              ...       ...   \n",
              "64  100,000     중개거래     2022       덕은동        DMC디에트르한강  116.6286   \n",
              "65   70,000     중개거래     2022       덕은동       DMC한강에일린의뜰  106.2136   \n",
              "66   83,000     중개거래     2022       덕은동         DMC자이더리버   84.9948   \n",
              "67   70,750     중개거래     2019       향동동  DMC호반베르디움더포레3단지   84.8984   \n",
              "68   74,000     중개거래     2019       향동동      DMC리슈빌더포레스트   84.9982   \n",
              "\n",
              "                spot gu_code  \n",
              "0           경기 고양덕양구   41281  \n",
              "1                      41281  \n",
              "2                      41281  \n",
              "3           경기 고양덕양구   41281  \n",
              "4           경기 고양덕양구   41281  \n",
              "..               ...     ...  \n",
              "64          경기 고양덕양구   41281  \n",
              "65          경기 고양덕양구   41281  \n",
              "66          경기 고양덕양구   41281  \n",
              "67          경기 고양덕양구   41281  \n",
              "68  경기 고양덕양구, 경기 부천시   41281  \n",
              "\n",
              "[69 rows x 8 columns]"
            ],
            "text/html": [
              "\n",
              "  <div id=\"df-12dc1f51-460a-4fb4-b498-4be27aabc0c2\">\n",
              "    <div class=\"colab-df-container\">\n",
              "      <div>\n",
              "<style scoped>\n",
              "    .dataframe tbody tr th:only-of-type {\n",
              "        vertical-align: middle;\n",
              "    }\n",
              "\n",
              "    .dataframe tbody tr th {\n",
              "        vertical-align: top;\n",
              "    }\n",
              "\n",
              "    .dataframe thead th {\n",
              "        text-align: right;\n",
              "    }\n",
              "</style>\n",
              "<table border=\"1\" class=\"dataframe\">\n",
              "  <thead>\n",
              "    <tr style=\"text-align: right;\">\n",
              "      <th></th>\n",
              "      <th>price</th>\n",
              "      <th>rent_fee</th>\n",
              "      <th>built_yr</th>\n",
              "      <th>dong_name</th>\n",
              "      <th>apt_name</th>\n",
              "      <th>size</th>\n",
              "      <th>spot</th>\n",
              "      <th>gu_code</th>\n",
              "    </tr>\n",
              "  </thead>\n",
              "  <tbody>\n",
              "    <tr>\n",
              "      <th>0</th>\n",
              "      <td>22,000</td>\n",
              "      <td>중개거래</td>\n",
              "      <td>2003</td>\n",
              "      <td>주교동</td>\n",
              "      <td>(608-3)</td>\n",
              "      <td>58.46</td>\n",
              "      <td>경기 고양덕양구</td>\n",
              "      <td>41281</td>\n",
              "    </tr>\n",
              "    <tr>\n",
              "      <th>1</th>\n",
              "      <td>11,000</td>\n",
              "      <td>직거래</td>\n",
              "      <td>1985</td>\n",
              "      <td>주교동</td>\n",
              "      <td>우진(569-9)</td>\n",
              "      <td>55.8</td>\n",
              "      <td></td>\n",
              "      <td>41281</td>\n",
              "    </tr>\n",
              "    <tr>\n",
              "      <th>2</th>\n",
              "      <td>48,000</td>\n",
              "      <td>직거래</td>\n",
              "      <td>2022</td>\n",
              "      <td>주교동</td>\n",
              "      <td>경원아인스타워</td>\n",
              "      <td>74.62</td>\n",
              "      <td></td>\n",
              "      <td>41281</td>\n",
              "    </tr>\n",
              "    <tr>\n",
              "      <th>3</th>\n",
              "      <td>28,500</td>\n",
              "      <td>중개거래</td>\n",
              "      <td>1999</td>\n",
              "      <td>주교동</td>\n",
              "      <td>서초</td>\n",
              "      <td>84.96</td>\n",
              "      <td>경기 고양덕양구</td>\n",
              "      <td>41281</td>\n",
              "    </tr>\n",
              "    <tr>\n",
              "      <th>4</th>\n",
              "      <td>26,000</td>\n",
              "      <td>중개거래</td>\n",
              "      <td>2017</td>\n",
              "      <td>주교동</td>\n",
              "      <td>스카이팰리스</td>\n",
              "      <td>69.93</td>\n",
              "      <td>경기 고양덕양구</td>\n",
              "      <td>41281</td>\n",
              "    </tr>\n",
              "    <tr>\n",
              "      <th>...</th>\n",
              "      <td>...</td>\n",
              "      <td>...</td>\n",
              "      <td>...</td>\n",
              "      <td>...</td>\n",
              "      <td>...</td>\n",
              "      <td>...</td>\n",
              "      <td>...</td>\n",
              "      <td>...</td>\n",
              "    </tr>\n",
              "    <tr>\n",
              "      <th>64</th>\n",
              "      <td>100,000</td>\n",
              "      <td>중개거래</td>\n",
              "      <td>2022</td>\n",
              "      <td>덕은동</td>\n",
              "      <td>DMC디에트르한강</td>\n",
              "      <td>116.6286</td>\n",
              "      <td>경기 고양덕양구</td>\n",
              "      <td>41281</td>\n",
              "    </tr>\n",
              "    <tr>\n",
              "      <th>65</th>\n",
              "      <td>70,000</td>\n",
              "      <td>중개거래</td>\n",
              "      <td>2022</td>\n",
              "      <td>덕은동</td>\n",
              "      <td>DMC한강에일린의뜰</td>\n",
              "      <td>106.2136</td>\n",
              "      <td>경기 고양덕양구</td>\n",
              "      <td>41281</td>\n",
              "    </tr>\n",
              "    <tr>\n",
              "      <th>66</th>\n",
              "      <td>83,000</td>\n",
              "      <td>중개거래</td>\n",
              "      <td>2022</td>\n",
              "      <td>덕은동</td>\n",
              "      <td>DMC자이더리버</td>\n",
              "      <td>84.9948</td>\n",
              "      <td>경기 고양덕양구</td>\n",
              "      <td>41281</td>\n",
              "    </tr>\n",
              "    <tr>\n",
              "      <th>67</th>\n",
              "      <td>70,750</td>\n",
              "      <td>중개거래</td>\n",
              "      <td>2019</td>\n",
              "      <td>향동동</td>\n",
              "      <td>DMC호반베르디움더포레3단지</td>\n",
              "      <td>84.8984</td>\n",
              "      <td>경기 고양덕양구</td>\n",
              "      <td>41281</td>\n",
              "    </tr>\n",
              "    <tr>\n",
              "      <th>68</th>\n",
              "      <td>74,000</td>\n",
              "      <td>중개거래</td>\n",
              "      <td>2019</td>\n",
              "      <td>향동동</td>\n",
              "      <td>DMC리슈빌더포레스트</td>\n",
              "      <td>84.9982</td>\n",
              "      <td>경기 고양덕양구, 경기 부천시</td>\n",
              "      <td>41281</td>\n",
              "    </tr>\n",
              "  </tbody>\n",
              "</table>\n",
              "<p>69 rows × 8 columns</p>\n",
              "</div>\n",
              "      <button class=\"colab-df-convert\" onclick=\"convertToInteractive('df-12dc1f51-460a-4fb4-b498-4be27aabc0c2')\"\n",
              "              title=\"Convert this dataframe to an interactive table.\"\n",
              "              style=\"display:none;\">\n",
              "        \n",
              "  <svg xmlns=\"http://www.w3.org/2000/svg\" height=\"24px\"viewBox=\"0 0 24 24\"\n",
              "       width=\"24px\">\n",
              "    <path d=\"M0 0h24v24H0V0z\" fill=\"none\"/>\n",
              "    <path d=\"M18.56 5.44l.94 2.06.94-2.06 2.06-.94-2.06-.94-.94-2.06-.94 2.06-2.06.94zm-11 1L8.5 8.5l.94-2.06 2.06-.94-2.06-.94L8.5 2.5l-.94 2.06-2.06.94zm10 10l.94 2.06.94-2.06 2.06-.94-2.06-.94-.94-2.06-.94 2.06-2.06.94z\"/><path d=\"M17.41 7.96l-1.37-1.37c-.4-.4-.92-.59-1.43-.59-.52 0-1.04.2-1.43.59L10.3 9.45l-7.72 7.72c-.78.78-.78 2.05 0 2.83L4 21.41c.39.39.9.59 1.41.59.51 0 1.02-.2 1.41-.59l7.78-7.78 2.81-2.81c.8-.78.8-2.07 0-2.86zM5.41 20L4 18.59l7.72-7.72 1.47 1.35L5.41 20z\"/>\n",
              "  </svg>\n",
              "      </button>\n",
              "      \n",
              "  <style>\n",
              "    .colab-df-container {\n",
              "      display:flex;\n",
              "      flex-wrap:wrap;\n",
              "      gap: 12px;\n",
              "    }\n",
              "\n",
              "    .colab-df-convert {\n",
              "      background-color: #E8F0FE;\n",
              "      border: none;\n",
              "      border-radius: 50%;\n",
              "      cursor: pointer;\n",
              "      display: none;\n",
              "      fill: #1967D2;\n",
              "      height: 32px;\n",
              "      padding: 0 0 0 0;\n",
              "      width: 32px;\n",
              "    }\n",
              "\n",
              "    .colab-df-convert:hover {\n",
              "      background-color: #E2EBFA;\n",
              "      box-shadow: 0px 1px 2px rgba(60, 64, 67, 0.3), 0px 1px 3px 1px rgba(60, 64, 67, 0.15);\n",
              "      fill: #174EA6;\n",
              "    }\n",
              "\n",
              "    [theme=dark] .colab-df-convert {\n",
              "      background-color: #3B4455;\n",
              "      fill: #D2E3FC;\n",
              "    }\n",
              "\n",
              "    [theme=dark] .colab-df-convert:hover {\n",
              "      background-color: #434B5C;\n",
              "      box-shadow: 0px 1px 3px 1px rgba(0, 0, 0, 0.15);\n",
              "      filter: drop-shadow(0px 1px 2px rgba(0, 0, 0, 0.3));\n",
              "      fill: #FFFFFF;\n",
              "    }\n",
              "  </style>\n",
              "\n",
              "      <script>\n",
              "        const buttonEl =\n",
              "          document.querySelector('#df-12dc1f51-460a-4fb4-b498-4be27aabc0c2 button.colab-df-convert');\n",
              "        buttonEl.style.display =\n",
              "          google.colab.kernel.accessAllowed ? 'block' : 'none';\n",
              "\n",
              "        async function convertToInteractive(key) {\n",
              "          const element = document.querySelector('#df-12dc1f51-460a-4fb4-b498-4be27aabc0c2');\n",
              "          const dataTable =\n",
              "            await google.colab.kernel.invokeFunction('convertToInteractive',\n",
              "                                                     [key], {});\n",
              "          if (!dataTable) return;\n",
              "\n",
              "          const docLinkHtml = 'Like what you see? Visit the ' +\n",
              "            '<a target=\"_blank\" href=https://colab.research.google.com/notebooks/data_table.ipynb>data table notebook</a>'\n",
              "            + ' to learn more about interactive tables.';\n",
              "          element.innerHTML = '';\n",
              "          dataTable['output_type'] = 'display_data';\n",
              "          await google.colab.output.renderOutput(dataTable, element);\n",
              "          const docLink = document.createElement('div');\n",
              "          docLink.innerHTML = docLinkHtml;\n",
              "          element.appendChild(docLink);\n",
              "        }\n",
              "      </script>\n",
              "    </div>\n",
              "  </div>\n",
              "  "
            ]
          },
          "metadata": {},
          "execution_count": 31
        }
      ]
    },
    {
      "cell_type": "code",
      "source": [
        "df.info()"
      ],
      "metadata": {
        "colab": {
          "base_uri": "https://localhost:8080/"
        },
        "id": "qSq8aPqraulz",
        "outputId": "1921dda5-2e5e-43d2-8819-4b7fc08e0e06"
      },
      "execution_count": null,
      "outputs": [
        {
          "output_type": "stream",
          "name": "stdout",
          "text": [
            "<class 'pandas.core.frame.DataFrame'>\n",
            "RangeIndex: 69 entries, 0 to 68\n",
            "Data columns (total 8 columns):\n",
            " #   Column     Non-Null Count  Dtype \n",
            "---  ------     --------------  ----- \n",
            " 0   price      69 non-null     object\n",
            " 1   rent_fee   69 non-null     object\n",
            " 2   built_yr   69 non-null     object\n",
            " 3   dong_name  69 non-null     object\n",
            " 4   apt_name   69 non-null     object\n",
            " 5   size       69 non-null     object\n",
            " 6   spot       69 non-null     object\n",
            " 7   gu_code    69 non-null     object\n",
            "dtypes: object(8)\n",
            "memory usage: 4.4+ KB\n"
          ]
        }
      ]
    },
    {
      "cell_type": "code",
      "source": [
        "# 데이터 전처리\n",
        "df['price'] = df['price'].str.replace(',', '').astype(int)\n",
        "df['built_yr'] = df['built_yr'].astype(int)\n",
        "df['gu_code'] = df['gu_code'].astype(int)\n",
        "df['size'] = df['size'].astype(float)\n",
        "\n",
        "df.info()"
      ],
      "metadata": {
        "colab": {
          "base_uri": "https://localhost:8080/"
        },
        "id": "6jzmBwpg-NS6",
        "outputId": "fd98c622-749c-4d6d-e41b-b7f9d61a3bb1"
      },
      "execution_count": null,
      "outputs": [
        {
          "output_type": "stream",
          "name": "stdout",
          "text": [
            "<class 'pandas.core.frame.DataFrame'>\n",
            "RangeIndex: 69 entries, 0 to 68\n",
            "Data columns (total 8 columns):\n",
            " #   Column     Non-Null Count  Dtype  \n",
            "---  ------     --------------  -----  \n",
            " 0   price      69 non-null     int64  \n",
            " 1   rent_fee   69 non-null     object \n",
            " 2   built_yr   69 non-null     int64  \n",
            " 3   dong_name  69 non-null     object \n",
            " 4   apt_name   69 non-null     object \n",
            " 5   size       69 non-null     float64\n",
            " 6   spot       69 non-null     object \n",
            " 7   gu_code    69 non-null     int64  \n",
            "dtypes: float64(1), int64(3), object(4)\n",
            "memory usage: 4.4+ KB\n"
          ]
        }
      ]
    },
    {
      "cell_type": "code",
      "source": [
        "# 거래금액 히스토그램 \n",
        "import matplotlib.pyplot as plt\n",
        "plt.rcParams['font.family'] = 'NanumGothic'\n",
        "plt.figure(figsize=(10,8))\n",
        "plt.hist(df['price'], bins=20)\n",
        "plt.title('경기도 고양시 덕양구 거래가격')\n",
        "plt.xlabel('가격(만원)')\n",
        "plt.ylabel('거래횟수')\n",
        "plt.grid()\n",
        "plt.show()"
      ],
      "metadata": {
        "colab": {
          "base_uri": "https://localhost:8080/",
          "height": 716
        },
        "id": "VCTvJz82ft_6",
        "outputId": "f6655e55-6850-4778-8222-0de4413478f1"
      },
      "execution_count": null,
      "outputs": [
        {
          "output_type": "display_data",
          "data": {
            "text/plain": [
              "<Figure size 1000x800 with 1 Axes>"
            ],
            "image/png": "[encoded data removed]"
          },
          "metadata": {}
        }
      ]
    },
    {
      "cell_type": "code",
      "source": [
        "# 거래금액 수치 데이터\n",
        "df[\"price\"].describe()"
      ],
      "metadata": {
        "colab": {
          "base_uri": "https://localhost:8080/"
        },
        "id": "X91iNUVofiKe",
        "outputId": "eb80609c-1664-4a94-c1f2-757034dceba0"
      },
      "execution_count": null,
      "outputs": [
        {
          "output_type": "execute_result",
          "data": {
            "text/plain": [
              "count        69.000000\n",
              "mean      48338.405797\n",
              "std       20235.692376\n",
              "min       11000.000000\n",
              "25%       29900.000000\n",
              "50%       50000.000000\n",
              "75%       66000.000000\n",
              "max      100000.000000\n",
              "Name: price, dtype: float64"
            ]
          },
          "metadata": {},
          "execution_count": 26
        }
      ]
    },
    {
      "cell_type": "code",
      "source": [
        "df\n",
        "# 파일로 저장\n",
        "df.to_excel(\"D:\\B\\반\\\\output.xlsx\")"
      ],
      "metadata": {
        "id": "8GXDYZ0xp7NN"
      },
      "execution_count": null,
      "outputs": []
    },
    {
      "cell_type": "code",
      "source": [
        "import pandas as pd\n",
        "import matplotlib.pyplot as plt\n",
        "\n",
        "plt.figure(figsize=(16,8))\n",
        "\n",
        "plt.rcParams['font.family'] = 'NanumGothic'\n",
        "\n",
        "# Excel 파일 읽기\n",
        "df = pd.read_excel('/content/D:\\B\\반\\output.xlsx')  # 파일 경로에는 실제 파일의 경로를 입력하세요\n",
        "\n",
        "# 세로로 나타낼 숫자 데이터\n",
        "numbers = df['price'].tolist()  # 숫자열에는 사용자가 원하는 열의 이름을 입력하세요\n",
        "\n",
        "# 가로로 나타낼 문자 데이터\n",
        "labels = df['dong_name'].tolist()  # 문자열에는 사용자가 원하는 열의 이름을 입력하세요\n",
        "\n",
        "# 막대 그래프 생성\n",
        "plt.bar(labels, numbers, color='aqua')\n",
        "\n",
        "# 그래프에 제목 추가\n",
        "plt.title('경기도 고양시 덕양구 가격')\n",
        "\n",
        "# x축과 y축 레이블 추가\n",
        "plt.xlabel('주소')\n",
        "plt.ylabel('가격(만원)')\n",
        "\n",
        "# 그래프 표시\n",
        "plt.grid()\n",
        "plt.show()\n"
      ],
      "metadata": {
        "colab": {
          "base_uri": "https://localhost:8080/",
          "height": 715
        },
        "id": "BOjYukVdvtJo",
        "outputId": "6d5da381-f610-4769-e0e6-9e75a9da5328"
      },
      "execution_count": null,
      "outputs": [
        {
          "output_type": "display_data",
          "data": {
            "text/plain": [
              "<Figure size 1600x800 with 1 Axes>"
            ],
            "image/png": "[encoded data removed]"
          },
          "metadata": {}
        }
      ]
    },
    {
      "cell_type": "code",
      "source": [
        "import pandas as pd\n",
        "import matplotlib.pyplot as plt\n",
        "\n",
        "plt.figure(figsize=(16,8))\n",
        "\n",
        "plt.rcParams['font.family'] = 'NanumGothic'\n",
        "\n",
        "# Excel 파일 읽기\n",
        "df = pd.read_excel('/content/D:\\B\\반\\output.xlsx')  # 파일 경로에는 실제 파일의 경로를 입력하세요\n",
        "\n",
        "# 세로로 나타낼 숫자 데이터\n",
        "numbers = df['price'].tolist()  # 숫자열에는 사용자가 원하는 열의 이름을 입력하세요\n",
        "\n",
        "# 가로로 나타낼 문자 데이터\n",
        "labels = df['built_yr'].tolist()  # 문자열에는 사용자가 원하는 열의 이름을 입력하세요\n",
        "\n",
        "# 막대 그래프 생성\n",
        "plt.bar(labels, numbers)\n",
        "\n",
        "# 그래프에 제목 추가\n",
        "plt.title('아파트 매매 가격')\n",
        "\n",
        "# x축과 y축 레이블 추가\n",
        "plt.xlabel('건축년도')\n",
        "plt.ylabel('가격(만원)')\n",
        "\n",
        "# 그래프 표시\n",
        "plt.grid()\n",
        "plt.show()\n"
      ],
      "metadata": {
        "colab": {
          "base_uri": "https://localhost:8080/",
          "height": 715
        },
        "id": "CA63ByVmuXbx",
        "outputId": "e3b0a36d-2704-4ede-caef-36f98dab4a30"
      },
      "execution_count": null,
      "outputs": [
        {
          "output_type": "display_data",
          "data": {
            "text/plain": [
              "<Figure size 1600x800 with 1 Axes>"
            ],
            "image/png": "[encoded data removed]"
          },
          "metadata": {}
        }
      ]
    }
  ]
}